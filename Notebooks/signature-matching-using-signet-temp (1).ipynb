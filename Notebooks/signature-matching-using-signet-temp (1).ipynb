{
 "cells": [
  {
   "cell_type": "markdown",
   "metadata": {},
   "source": [
    "import zipfile\n",
    "with zipfile.ZipFile('custom.zip', 'r') as zip_ref:\n",
    "    zip_ref.extractall('./')"
   ]
  },
  {
   "cell_type": "markdown",
   "metadata": {
    "_uuid": "0b56cac4dfa2b5a16bfd43730db9ee76cd7ea9f9",
    "id": "EDMURKIHPI7E"
   },
   "source": [
    "# Siamese Neural Network\n",
    "\n",
    "Siamese neural network is a class of neural network architectures that contain two or more identical sub networks. identical here means they have the same configuration with the same parameters and weights. Parameter updating is mirrored across both sub networks.It is used find the similarity of the inputs by comparing its feature vectors.\n",
    "\n",
    "For more details check this blog : https://innovationincubator.com/siamese-neural-network-with-code-example/"
   ]
  },
  {
   "cell_type": "markdown",
   "metadata": {
    "_uuid": "abf8d3401633a4efc51e3f8f695837e3b732abc6",
    "id": "vLqOxtMiPgSJ",
    "tags": []
   },
   "source": [
    "## Steps to create classifier using Siamese Neural Network \n",
    "\n",
    "\n",
    "1.   **Data Preprocessing**\n",
    "2.   **Define the Siamese Network**\n",
    "3.   **Feature Vector Extraction**\n",
    "4.   **Similarity Score Calculation**\n",
    "5.   **Defininf Loss Function**\n",
    "6.   **Optimizer**\n",
    "7.   **Testing using One-Shot Learnig**\n",
    "8.   **Making Predictions**\n",
    "\n"
   ]
  },
  {
   "cell_type": "markdown",
   "metadata": {
    "_uuid": "c7b0b4a3bfc2d98812fddef9b5d906bd7e29b0fc",
    "id": "EQVRApGcQiKR"
   },
   "source": [
    "Let's  go step wise "
   ]
  },
  {
   "cell_type": "markdown",
   "metadata": {
    "_uuid": "01af599d93f984bcbbd13013569d96bdd3bba3d8",
    "id": "ZwVjRxLM7_3A"
   },
   "source": [
    "## Import and Install all the necessary packages"
   ]
  },
  {
   "cell_type": "code",
   "execution_count": 1,
   "metadata": {
    "_uuid": "d4ca23ebfdd0527076338decd5dc651c8543901c",
    "execution": {
     "iopub.execute_input": "2022-02-21T08:48:30.48984Z",
     "iopub.status.busy": "2022-02-21T08:48:30.489154Z",
     "iopub.status.idle": "2022-02-21T08:48:32.734805Z",
     "shell.execute_reply": "2022-02-21T08:48:32.734043Z",
     "shell.execute_reply.started": "2022-02-21T08:48:30.489802Z"
    },
    "id": "esGrw0waQlwP"
   },
   "outputs": [],
   "source": [
    "# Import all the necessary Library \n",
    "import torchvision\n",
    "import torch.utils.data as utils\n",
    "from torchvision import datasets\n",
    "import torchvision.transforms as transforms\n",
    "from torch.utils.data import DataLoader,Dataset\n",
    "from torch.autograd import Variable\n",
    "import matplotlib.pyplot as plt\n",
    "import torchvision.utils\n",
    "from sklearn.model_selection import train_test_split\n",
    "import numpy as np\n",
    "import time\n",
    "import copy\n",
    "from torch.optim import lr_scheduler\n",
    "import os\n",
    "from PIL import Image\n",
    "import torch\n",
    "from torch.autograd import Variable\n",
    "import PIL.ImageOps    \n",
    "import torch.nn as nn\n",
    "from torch import optim\n",
    "import torch.nn.functional as F\n",
    "import pandas as pd\n",
    "import warnings\n",
    "from tqdm.notebook import tqdm\n",
    "\n",
    "warnings.filterwarnings('ignore')\n",
    "plt.rcParams[\"figure.figsize\"] = (15,15)"
   ]
  },
  {
   "cell_type": "code",
   "execution_count": 2,
   "metadata": {
    "execution": {
     "iopub.execute_input": "2022-02-21T08:48:32.736669Z",
     "iopub.status.busy": "2022-02-21T08:48:32.736398Z",
     "iopub.status.idle": "2022-02-21T08:48:32.741811Z",
     "shell.execute_reply": "2022-02-21T08:48:32.741081Z",
     "shell.execute_reply.started": "2022-02-21T08:48:32.736636Z"
    }
   },
   "outputs": [],
   "source": [
    "path = './custom/full'"
   ]
  },
  {
   "cell_type": "code",
   "execution_count": 98,
   "metadata": {
    "execution": {
     "iopub.execute_input": "2022-02-21T08:48:32.744409Z",
     "iopub.status.busy": "2022-02-21T08:48:32.742913Z",
     "iopub.status.idle": "2022-02-21T08:49:02.929128Z",
     "shell.execute_reply": "2022-02-21T08:49:02.928404Z",
     "shell.execute_reply.started": "2022-02-21T08:48:32.744378Z"
    },
    "scrolled": false
   },
   "outputs": [
    {
     "data": {
      "application/vnd.jupyter.widget-view+json": {
       "model_id": "58d936d11c5f4918ae1bd32d31ad733d",
       "version_major": 2,
       "version_minor": 0
      },
      "text/plain": [
       "  0%|          | 0/1 [00:00<?, ?it/s]"
      ]
     },
     "metadata": {},
     "output_type": "display_data"
    },
    {
     "data": {
      "application/vnd.jupyter.widget-view+json": {
       "model_id": "4c7dd80841214d1196124a8893b9f633",
       "version_major": 2,
       "version_minor": 0
      },
      "text/plain": [
       "  0%|          | 0/1 [00:00<?, ?it/s]"
      ]
     },
     "metadata": {},
     "output_type": "display_data"
    },
    {
     "data": {
      "text/html": [
       "<div>\n",
       "<style scoped>\n",
       "    .dataframe tbody tr th:only-of-type {\n",
       "        vertical-align: middle;\n",
       "    }\n",
       "\n",
       "    .dataframe tbody tr th {\n",
       "        vertical-align: top;\n",
       "    }\n",
       "\n",
       "    .dataframe thead th {\n",
       "        text-align: right;\n",
       "    }\n",
       "</style>\n",
       "<table border=\"1\" class=\"dataframe\">\n",
       "  <thead>\n",
       "    <tr style=\"text-align: right;\">\n",
       "      <th></th>\n",
       "      <th>0</th>\n",
       "      <th>1</th>\n",
       "      <th>2</th>\n",
       "    </tr>\n",
       "  </thead>\n",
       "  <tbody>\n",
       "    <tr>\n",
       "      <th>0</th>\n",
       "      <td>001/001_07.png</td>\n",
       "      <td>001/001_13.png</td>\n",
       "      <td>0</td>\n",
       "    </tr>\n",
       "    <tr>\n",
       "      <th>0</th>\n",
       "      <td>001/001_07.png</td>\n",
       "      <td>001/001_19.png</td>\n",
       "      <td>0</td>\n",
       "    </tr>\n",
       "    <tr>\n",
       "      <th>0</th>\n",
       "      <td>001/001_07.png</td>\n",
       "      <td>001/001_15.png</td>\n",
       "      <td>0</td>\n",
       "    </tr>\n",
       "    <tr>\n",
       "      <th>0</th>\n",
       "      <td>001/001_07.png</td>\n",
       "      <td>001/001_05.png</td>\n",
       "      <td>0</td>\n",
       "    </tr>\n",
       "    <tr>\n",
       "      <th>0</th>\n",
       "      <td>001/001_07.png</td>\n",
       "      <td>001/001_16.png</td>\n",
       "      <td>0</td>\n",
       "    </tr>\n",
       "    <tr>\n",
       "      <th>0</th>\n",
       "      <td>001/001_07.png</td>\n",
       "      <td>001/001_06.png</td>\n",
       "      <td>0</td>\n",
       "    </tr>\n",
       "    <tr>\n",
       "      <th>0</th>\n",
       "      <td>001/001_07.png</td>\n",
       "      <td>001/001_21.png</td>\n",
       "      <td>0</td>\n",
       "    </tr>\n",
       "    <tr>\n",
       "      <th>0</th>\n",
       "      <td>001/001_07.png</td>\n",
       "      <td>001/001_20.png</td>\n",
       "      <td>0</td>\n",
       "    </tr>\n",
       "    <tr>\n",
       "      <th>0</th>\n",
       "      <td>001/001_07.png</td>\n",
       "      <td>001/001_02.png</td>\n",
       "      <td>0</td>\n",
       "    </tr>\n",
       "    <tr>\n",
       "      <th>0</th>\n",
       "      <td>001/001_07.png</td>\n",
       "      <td>001/001_12.png</td>\n",
       "      <td>0</td>\n",
       "    </tr>\n",
       "  </tbody>\n",
       "</table>\n",
       "</div>"
      ],
      "text/plain": [
       "                0               1  2\n",
       "0  001/001_07.png  001/001_13.png  0\n",
       "0  001/001_07.png  001/001_19.png  0\n",
       "0  001/001_07.png  001/001_15.png  0\n",
       "0  001/001_07.png  001/001_05.png  0\n",
       "0  001/001_07.png  001/001_16.png  0\n",
       "0  001/001_07.png  001/001_06.png  0\n",
       "0  001/001_07.png  001/001_21.png  0\n",
       "0  001/001_07.png  001/001_20.png  0\n",
       "0  001/001_07.png  001/001_02.png  0\n",
       "0  001/001_07.png  001/001_12.png  0"
      ]
     },
     "execution_count": 98,
     "metadata": {},
     "output_type": "execute_result"
    }
   ],
   "source": [
    "data = pd.DataFrame()\n",
    "\n",
    "folders = os.listdir('./custom/full')\n",
    "folders.sort()\n",
    "folders = folders[:2]\n",
    "for x in tqdm(range(0,len(folders),2)):\n",
    "    for y in os.listdir(path + '/' + folders[x]):\n",
    "        for z in os.listdir(path + '/' + folders[x]):\n",
    "            if y != z:\n",
    "                data = data.append([[str(folders[x]) + '/' + y, str(folders[x]) + '/' + z, 0]])\n",
    "                \n",
    "for x in tqdm(range(0,len(folders),2)):\n",
    "    for y in os.listdir(path + '/' + folders[x]):\n",
    "        for z in os.listdir(path + '/' + folders[x] + '_forg'):\n",
    "            data = data.append([[str(folders[x]) + '/' + y, str(folders[x]) + '_forg' + '/' + z, 1]])\n",
    "\n",
    "data.to_csv('./custom/data.csv',index=False)\n",
    "data.head(10)"
   ]
  },
  {
   "cell_type": "markdown",
   "metadata": {
    "_uuid": "4b420e82da8a63cffb309548b7fc4de4dbc3634f",
    "id": "PmRRnTkx8Gdf"
   },
   "source": [
    "### Additional Utility Functions "
   ]
  },
  {
   "cell_type": "code",
   "execution_count": 99,
   "metadata": {
    "_uuid": "baef615ec62fac8afbe867d992386447795f0150",
    "execution": {
     "iopub.execute_input": "2022-02-21T08:49:02.932422Z",
     "iopub.status.busy": "2022-02-21T08:49:02.932185Z",
     "iopub.status.idle": "2022-02-21T08:49:02.938374Z",
     "shell.execute_reply": "2022-02-21T08:49:02.937617Z",
     "shell.execute_reply.started": "2022-02-21T08:49:02.932389Z"
    },
    "id": "8lbUsE940bz1"
   },
   "outputs": [],
   "source": [
    "def imshow(img,text=None,should_save=False):\n",
    "    npimg = img.numpy()\n",
    "    plt.axis(\"off\")\n",
    "    if text:\n",
    "        plt.text(75, 8, text, style='italic',fontweight='bold',\n",
    "            bbox={'facecolor':'white', 'alpha':0.8, 'pad':10})\n",
    "    plt.imshow(np.transpose(npimg, (1, 2, 0)))\n",
    "    plt.show()    \n",
    "\n",
    "def show_plot(iteration,loss):\n",
    "    plt.plot(iteration,loss)\n",
    "    plt.show()"
   ]
  },
  {
   "cell_type": "markdown",
   "metadata": {},
   "source": [
    "### Statified Split"
   ]
  },
  {
   "cell_type": "code",
   "execution_count": 100,
   "metadata": {
    "execution": {
     "iopub.execute_input": "2022-02-21T08:49:02.940808Z",
     "iopub.status.busy": "2022-02-21T08:49:02.940441Z",
     "iopub.status.idle": "2022-02-21T08:49:02.981821Z",
     "shell.execute_reply": "2022-02-21T08:49:02.981155Z",
     "shell.execute_reply.started": "2022-02-21T08:49:02.940767Z"
    }
   },
   "outputs": [],
   "source": [
    "data = pd.read_csv('./custom/data.csv').sample(frac=1)\n",
    "X_train, X_test, y_train, y_test = train_test_split(data.iloc[:,[0,1]],data.iloc[:,[2]],test_size=0.1,stratify=data.iloc[:,2])"
   ]
  },
  {
   "cell_type": "code",
   "execution_count": 101,
   "metadata": {
    "execution": {
     "iopub.execute_input": "2022-02-21T08:49:02.983553Z",
     "iopub.status.busy": "2022-02-21T08:49:02.983097Z",
     "iopub.status.idle": "2022-02-21T08:49:03.048921Z",
     "shell.execute_reply": "2022-02-21T08:49:03.048206Z",
     "shell.execute_reply.started": "2022-02-21T08:49:02.983517Z"
    }
   },
   "outputs": [],
   "source": [
    "pd.concat([X_train,y_train],axis=1).to_csv('./custom/train_data.csv',index=False)\n",
    "pd.concat([X_test,y_test],axis=1).to_csv('./custom/test_data.csv',index=False)"
   ]
  },
  {
   "cell_type": "code",
   "execution_count": 103,
   "metadata": {
    "_uuid": "82d36acd104a5799f6f51b3c25b7ca535e44c25f",
    "execution": {
     "iopub.execute_input": "2022-02-21T08:49:03.050385Z",
     "iopub.status.busy": "2022-02-21T08:49:03.050141Z",
     "iopub.status.idle": "2022-02-21T08:49:03.054444Z",
     "shell.execute_reply": "2022-02-21T08:49:03.053554Z",
     "shell.execute_reply.started": "2022-02-21T08:49:03.050353Z"
    },
    "id": "o5NvCZbZeh4A"
   },
   "outputs": [],
   "source": [
    "class Config():\n",
    "    data_dir = \"./model\"\n",
    "    train_batch_size = 32\n",
    "    train_number_epochs = 100"
   ]
  },
  {
   "cell_type": "markdown",
   "metadata": {
    "_uuid": "23880e40fdf9333f69987d93748663faba18fde9",
    "id": "lSceosT-QYVv"
   },
   "source": [
    "## Load Dataset :\n",
    "\n",
    "Datasets can be downloaded from this Link:  https://drive.google.com/file/d/1q03FLpaolm6Jq5vM0a_AEnjJoqjtxgP8/view?usp=sharing\n",
    "\n",
    "**Copy the dataset directly to your drive and load it from there**"
   ]
  },
  {
   "cell_type": "code",
   "execution_count": 104,
   "metadata": {
    "_uuid": "b60cef1ad50324de0daabbc4aae18cf4d9a06c80",
    "execution": {
     "iopub.execute_input": "2022-02-21T08:49:03.066372Z",
     "iopub.status.busy": "2022-02-21T08:49:03.06618Z",
     "iopub.status.idle": "2022-02-21T08:49:03.073747Z",
     "shell.execute_reply": "2022-02-21T08:49:03.072914Z",
     "shell.execute_reply.started": "2022-02-21T08:49:03.066348Z"
    },
    "id": "EFbF-KBzDWNW"
   },
   "outputs": [],
   "source": [
    "data_dir = \"./custom/full\"\n",
    "training_csv = \"./custom/train_data.csv\"\n",
    "testing_csv = \"./custom/test_data.csv\""
   ]
  },
  {
   "cell_type": "markdown",
   "metadata": {
    "_uuid": "0129fdd81f073d57b3d39055b639a1012041f1e0",
    "id": "pBOpcs9KRjWm",
    "tags": []
   },
   "source": [
    "### Preprocessing and Loading Dataset\n",
    "\n",
    "We preprocessed all the images and loaded them as .npy files which is easy to transfer . You can follow your own preprocessing steps .\n"
   ]
  },
  {
   "cell_type": "code",
   "execution_count": 105,
   "metadata": {
    "_uuid": "43a73fcbcdeced1f7866cc80b9b7a7a5ea84faef",
    "execution": {
     "iopub.execute_input": "2022-02-21T08:51:11.567393Z",
     "iopub.status.busy": "2022-02-21T08:51:11.566856Z",
     "iopub.status.idle": "2022-02-21T08:51:11.576961Z",
     "shell.execute_reply": "2022-02-21T08:51:11.576285Z",
     "shell.execute_reply.started": "2022-02-21T08:51:11.567355Z"
    },
    "id": "VC5JhgpcPmP6"
   },
   "outputs": [],
   "source": [
    "class SiameseNetworkDataset(Dataset):\n",
    "    \n",
    "    def __init__(self,training_csv=None,training_dir=None,transform=None):\n",
    "        # used to prepare the labels and images path\n",
    "        self.training_df=pd.read_csv(training_csv)\n",
    "        self.training_df.columns =[\"image1\",\"image2\",\"label\"]\n",
    "        self.training_dir = training_dir    \n",
    "        self.transform = transform\n",
    "\n",
    "    def __getitem__(self,index):\n",
    "        \n",
    "        # getting the image path\n",
    "        image1_path=os.path.join(self.training_dir,self.training_df.iat[index,0])\n",
    "        image2_path=os.path.join(self.training_dir,self.training_df.iat[index,1])\n",
    "        #print(image1_path,image2_path)\n",
    "        \n",
    "        \n",
    "        # Loading the image\n",
    "        img0 = Image.open(image1_path)\n",
    "        img1 = Image.open(image2_path)\n",
    "        img0 = img0.convert(\"RGB\")\n",
    "        img1 = img1.convert(\"RGB\")\n",
    "        \n",
    "        # Apply image transformations\n",
    "        if self.transform is not None:\n",
    "            img0 = self.transform(img0)\n",
    "            img1 = self.transform(img1)\n",
    "        \n",
    "        return img0, img1 , torch.from_numpy(np.array([int(self.training_df.iat[index,2])],dtype=np.float32))\n",
    "    \n",
    "    def __len__(self):\n",
    "        return len(self.training_df)"
   ]
  },
  {
   "cell_type": "code",
   "execution_count": 106,
   "metadata": {
    "_uuid": "f946e30dc38c46bd99f2ec5a024ec6459802bf9b",
    "execution": {
     "iopub.execute_input": "2022-02-21T08:51:14.189612Z",
     "iopub.status.busy": "2022-02-21T08:51:14.189245Z",
     "iopub.status.idle": "2022-02-21T08:51:14.209987Z",
     "shell.execute_reply": "2022-02-21T08:51:14.209323Z",
     "shell.execute_reply.started": "2022-02-21T08:51:14.189576Z"
    },
    "id": "Ws1NipMUQaI3"
   },
   "outputs": [],
   "source": [
    "# Load the the dataset from raw image folders\n",
    "siamese_dataset = SiameseNetworkDataset(training_csv,data_dir,\n",
    "                                        transform=transforms.Compose([transforms.Resize((224,224)),transforms.ToTensor()])\n",
    "                                       )"
   ]
  },
  {
   "cell_type": "code",
   "execution_count": null,
   "metadata": {
    "_uuid": "0fc1de5e5cff64128a72408ae48b9d76ae1b7e6a",
    "execution": {
     "iopub.execute_input": "2022-02-21T08:51:16.760177Z",
     "iopub.status.busy": "2022-02-21T08:51:16.759685Z",
     "iopub.status.idle": "2022-02-21T08:51:17.300938Z",
     "shell.execute_reply": "2022-02-21T08:51:17.300273Z",
     "shell.execute_reply.started": "2022-02-21T08:51:16.760138Z"
    },
    "id": "eTpprbksZS80",
    "outputId": "39e45d3f-3d90-4164-a57d-b395bb59d408"
   },
   "outputs": [
    {
     "name": "stdout",
     "output_type": "stream",
     "text": [
      "torch.Size([8, 3, 224, 224])\n"
     ]
    }
   ],
   "source": [
    "# Viewing the sample of images and to check whether its loading properly\n",
    "vis_dataloader = DataLoader(siamese_dataset,\n",
    "                        shuffle=True,\n",
    "                        batch_size=8)\n",
    "dataiter = iter(vis_dataloader)\n",
    "\n",
    "\n",
    "example_batch = next(dataiter)\n",
    "concatenated = torch.cat((example_batch[0],example_batch[1]),0)\n",
    "print(example_batch[0].size())\n",
    "imshow(torchvision.utils.make_grid(concatenated))\n",
    "print(example_batch[2].numpy())"
   ]
  },
  {
   "cell_type": "markdown",
   "metadata": {
    "_uuid": "728ce3655883f54866e9fee12c4d0301869ccb19",
    "id": "5xhlmF-nj6_v"
   },
   "source": [
    "## Siamese Network Definition"
   ]
  },
  {
   "cell_type": "code",
   "execution_count": 111,
   "metadata": {
    "_uuid": "128a1ceeb13c4b0bd10b899f79bdfe9bc6d56ec4",
    "execution": {
     "iopub.execute_input": "2022-02-21T08:51:28.485552Z",
     "iopub.status.busy": "2022-02-21T08:51:28.485273Z",
     "iopub.status.idle": "2022-02-21T08:51:28.49758Z",
     "shell.execute_reply": "2022-02-21T08:51:28.496374Z",
     "shell.execute_reply.started": "2022-02-21T08:51:28.485519Z"
    },
    "id": "MjkBkyTomlU6"
   },
   "outputs": [],
   "source": [
    "class SiameseNetwork(nn.Module):\n",
    "    def __init__(self,resnet):\n",
    "        super(SiameseNetwork, self).__init__()\n",
    "\n",
    "        self.resnet = resnet\n",
    "        fc_outputs = resnet.fc.out_features\n",
    "        self.fc1 = nn.Sequential(\n",
    "            #nn.Linear(fc_outputs, 1024),\n",
    "            #nn.ReLU(inplace=True),\n",
    "            nn.Dropout2d(p=0.5),\n",
    "            #nn.Linear(1024, 128),\n",
    "            nn.Linear(fc_outputs, 128),\n",
    "            nn.ReLU(inplace=True),\n",
    "            nn.Linear(128,64))\n",
    "        \n",
    "  \n",
    "    def forward_once(self, x):\n",
    "        # Forward pass \n",
    "        output = self.resnet(x)\n",
    "        output = self.fc1(output)\n",
    "        return output\n",
    "\n",
    "    def forward(self, input1, input2):\n",
    "        # forward pass of input 1\n",
    "        output1 = self.forward_once(input1)\n",
    "        # forward pass of input 2\n",
    "        output2 = self.forward_once(input2)\n",
    "        return output1, output2"
   ]
  },
  {
   "cell_type": "markdown",
   "metadata": {
    "_uuid": "3db279346ca41ff205f291043c5508d506b2012a",
    "id": "2xaKRzCV-vBD"
   },
   "source": [
    "### Loss Function"
   ]
  },
  {
   "cell_type": "code",
   "execution_count": 112,
   "metadata": {
    "_uuid": "9b911d391f93d445372e51880c2b60d3d9befba6",
    "execution": {
     "iopub.execute_input": "2022-02-21T04:50:54.416056Z",
     "iopub.status.busy": "2022-02-21T04:50:54.415475Z",
     "iopub.status.idle": "2022-02-21T04:50:54.422745Z",
     "shell.execute_reply": "2022-02-21T04:50:54.422001Z",
     "shell.execute_reply.started": "2022-02-21T04:50:54.416012Z"
    },
    "id": "nBjCIlhWk2MT"
   },
   "outputs": [],
   "source": [
    "class ContrastiveLoss(torch.nn.Module):\n",
    "    \"\"\"\n",
    "    Contrastive loss function.\n",
    "    Based on: http://yann.lecun.com/exdb/publis/pdf/hadsell-chopra-lecun-06.pdf\n",
    "    \"\"\"\n",
    "\n",
    "    def __init__(self, margin=1.0):\n",
    "        super(ContrastiveLoss, self).__init__()\n",
    "        self.margin = margin\n",
    "\n",
    "    def forward(self, output1, output2, label):\n",
    "        euclidean_distance = F.pairwise_distance(output1, output2)\n",
    "        #loss_contrastive = torch.mean((label) * torch.pow(euclidean_distance, 2) + (1 - label) * torch.pow(torch.clamp(self.margin - euclidean_distance, min=0.0), 2))\n",
    "        loss_contrastive = torch.mean((1-label) * torch.pow(euclidean_distance, 2) + (label) * torch.pow(torch.clamp(self.margin - euclidean_distance, min=0.0), 2))\n",
    "        #loss_contrastive = torch.sum(loss_contrastive) / 2.0 / output1.size()[0]\n",
    "        return loss_contrastive"
   ]
  },
  {
   "cell_type": "markdown",
   "metadata": {},
   "source": [
    "### Plot Loss"
   ]
  },
  {
   "cell_type": "code",
   "execution_count": 113,
   "metadata": {},
   "outputs": [],
   "source": [
    "def plot_loss(train_loss):\n",
    "    plt.plot(train_loss, label=\"train loss\")\n",
    "    plt.legend()"
   ]
  },
  {
   "cell_type": "markdown",
   "metadata": {
    "_uuid": "60f29c707ad5cb75bdd1c42bdd7c737cc6df1e73",
    "id": "UyGA_GUt-0xp"
   },
   "source": [
    "### Train the Model"
   ]
  },
  {
   "cell_type": "code",
   "execution_count": 114,
   "metadata": {
    "_uuid": "8576f4f25efcbe4195954453fb830edfcd909a01",
    "execution": {
     "iopub.execute_input": "2022-02-21T04:50:55.764122Z",
     "iopub.status.busy": "2022-02-21T04:50:55.763524Z",
     "iopub.status.idle": "2022-02-21T04:50:55.772159Z",
     "shell.execute_reply": "2022-02-21T04:50:55.771171Z",
     "shell.execute_reply.started": "2022-02-21T04:50:55.764076Z"
    },
    "id": "xO9uIznkXiB0"
   },
   "outputs": [],
   "source": [
    "# Load the dataset as pytorch tensors using dataloader\n",
    "train_dataloader = DataLoader(siamese_dataset,\n",
    "                        shuffle=True,\n",
    "                        num_workers=8,\n",
    "                        batch_size=Config.train_batch_size)"
   ]
  },
  {
   "cell_type": "code",
   "execution_count": 115,
   "metadata": {
    "_uuid": "a873b99fb89c49c040defd493e18707c03a9d650",
    "execution": {
     "iopub.execute_input": "2022-02-21T04:50:57.317068Z",
     "iopub.status.busy": "2022-02-21T04:50:57.316371Z",
     "iopub.status.idle": "2022-02-21T04:50:57.371251Z",
     "shell.execute_reply": "2022-02-21T04:50:57.370411Z",
     "shell.execute_reply.started": "2022-02-21T04:50:57.317025Z"
    },
    "id": "tspmR_2bd824",
    "outputId": "e78098fb-1e33-46d3-80ae-1eb212af94ea"
   },
   "outputs": [
    {
     "name": "stdout",
     "output_type": "stream",
     "text": [
      "Yes\n"
     ]
    }
   ],
   "source": [
    "# Check whether you have GPU is loaded or not\n",
    "if torch.cuda.is_available():\n",
    "    print('Yes')"
   ]
  },
  {
   "cell_type": "code",
   "execution_count": 116,
   "metadata": {},
   "outputs": [],
   "source": [
    "def train(net,criterion):\n",
    "    counter = []\n",
    "    loss_history = [] \n",
    "    iteration_number= 0\n",
    "    \n",
    "    for epoch in range(0,Config.train_number_epochs):\n",
    "        for i, data in enumerate(train_dataloader,0):\n",
    "            img0, img1 , label = data\n",
    "            img0, img1 , label = img0.cuda(), img1.cuda() , label.cuda()\n",
    "            optimizer.zero_grad()\n",
    "            output1,output2 = net(img0,img1)\n",
    "            loss_contrastive = criterion(output1,output2,label)\n",
    "            loss_contrastive.backward()\n",
    "            optimizer.step()\n",
    "            \n",
    "            if i %100 == 0 :\n",
    "                print(\"Epoch number {}\\n Current loss {}\\n Learning Rate {}\\n\".format(epoch,loss_contrastive.item(),optimizer.param_groups[0]['lr']))\n",
    "                iteration_number +=10\n",
    "                counter.append(iteration_number)\n",
    "                loss_history.append(loss_contrastive.item())\n",
    "        \n",
    "        #if scheduler!=None:\n",
    "            #scheduler.step()\n",
    "    \n",
    "    return net,loss_history"
   ]
  },
  {
   "cell_type": "markdown",
   "metadata": {},
   "source": [
    "### Model 1 - Accuracy - 50"
   ]
  },
  {
   "cell_type": "code",
   "execution_count": 117,
   "metadata": {
    "scrolled": true
   },
   "outputs": [],
   "source": [
    "#resnet = torchvision.models.resnet50(pretrained=True)\n",
    "#resnet = torch.hub.load('./model', 'resnet50', pretrained=True)\n",
    "\n",
    "resnet = torchvision.models.resnet50(pretrained=False)\n",
    "resnet.load_state_dict(torch.load('./model/resnet50-0676ba61.pth'))\n",
    "for param in resnet.parameters():\n",
    "    param.requires_grad = False"
   ]
  },
  {
   "cell_type": "code",
   "execution_count": 118,
   "metadata": {},
   "outputs": [],
   "source": [
    "# Declare Siamese Network\n",
    "net1 = SiameseNetwork(resnet).cuda()\n",
    "# Decalre Loss Function\n",
    "criterion = ContrastiveLoss()\n",
    "# Declare Optimizer\n",
    "optimizer = optim.Adam(net1.parameters(), lr=1e-7, eps=1e-8, weight_decay=0.0005) #RMSprop(net.parameters(), lr=1e-4, alpha=0.99, eps=1e-8, weight_decay=0.0005, momentum=0.9)"
   ]
  },
  {
   "cell_type": "code",
   "execution_count": 119,
   "metadata": {
    "_uuid": "553b5c56d87f165e21b0b142d8cd17e9063d68a1",
    "execution": {
     "iopub.execute_input": "2022-02-21T04:51:10.377977Z",
     "iopub.status.busy": "2022-02-21T04:51:10.377236Z",
     "iopub.status.idle": "2022-02-21T04:53:37.555203Z",
     "shell.execute_reply": "2022-02-21T04:53:37.5543Z",
     "shell.execute_reply.started": "2022-02-21T04:51:10.377925Z"
    },
    "id": "oDx471-mBDGD",
    "scrolled": true,
    "tags": []
   },
   "outputs": [
    {
     "name": "stdout",
     "output_type": "stream",
     "text": [
      "Epoch number 0\n",
      " Current loss 0.4791247248649597\n",
      " Learning Rate 1e-07\n",
      "\n",
      "Epoch number 1\n",
      " Current loss 1.2996938228607178\n",
      " Learning Rate 1e-07\n",
      "\n",
      "Epoch number 2\n",
      " Current loss 1.26585853099823\n",
      " Learning Rate 1e-07\n",
      "\n",
      "Epoch number 3\n",
      " Current loss 2.054194688796997\n",
      " Learning Rate 1e-07\n",
      "\n",
      "Epoch number 4\n",
      " Current loss 1.8013428449630737\n",
      " Learning Rate 1e-07\n",
      "\n",
      "Epoch number 5\n",
      " Current loss 2.3526506423950195\n",
      " Learning Rate 1e-07\n",
      "\n",
      "Epoch number 6\n",
      " Current loss 2.2563140392303467\n",
      " Learning Rate 1e-07\n",
      "\n",
      "Epoch number 7\n",
      " Current loss 1.063189148902893\n",
      " Learning Rate 1e-07\n",
      "\n",
      "Epoch number 8\n",
      " Current loss 0.8614131212234497\n",
      " Learning Rate 1e-07\n",
      "\n",
      "Epoch number 9\n",
      " Current loss 1.2393648624420166\n",
      " Learning Rate 1e-07\n",
      "\n",
      "Epoch number 10\n",
      " Current loss 1.9393587112426758\n",
      " Learning Rate 1e-07\n",
      "\n",
      "Epoch number 11\n",
      " Current loss 1.0270051956176758\n",
      " Learning Rate 1e-07\n",
      "\n",
      "Epoch number 12\n",
      " Current loss 1.4660413265228271\n",
      " Learning Rate 1e-07\n",
      "\n",
      "Epoch number 13\n",
      " Current loss 1.6930186748504639\n",
      " Learning Rate 1e-07\n",
      "\n",
      "Epoch number 14\n",
      " Current loss 1.925577163696289\n",
      " Learning Rate 1e-07\n",
      "\n",
      "Epoch number 15\n",
      " Current loss 1.9915231466293335\n",
      " Learning Rate 1e-07\n",
      "\n",
      "Epoch number 16\n",
      " Current loss 2.6462652683258057\n",
      " Learning Rate 1e-07\n",
      "\n",
      "Epoch number 17\n",
      " Current loss 2.3955724239349365\n",
      " Learning Rate 1e-07\n",
      "\n",
      "Epoch number 18\n",
      " Current loss 2.205137252807617\n",
      " Learning Rate 1e-07\n",
      "\n",
      "Epoch number 19\n",
      " Current loss 1.502673625946045\n",
      " Learning Rate 1e-07\n",
      "\n",
      "Epoch number 20\n",
      " Current loss 0.8684221506118774\n",
      " Learning Rate 1e-07\n",
      "\n",
      "Epoch number 21\n",
      " Current loss 1.4039796590805054\n",
      " Learning Rate 1e-07\n",
      "\n",
      "Epoch number 22\n",
      " Current loss 2.680617332458496\n",
      " Learning Rate 1e-07\n",
      "\n",
      "Epoch number 23\n",
      " Current loss 1.8528501987457275\n",
      " Learning Rate 1e-07\n",
      "\n",
      "Epoch number 24\n",
      " Current loss 0.8084884881973267\n",
      " Learning Rate 1e-07\n",
      "\n",
      "Epoch number 25\n",
      " Current loss 1.8489234447479248\n",
      " Learning Rate 1e-07\n",
      "\n",
      "Epoch number 26\n",
      " Current loss 1.0287704467773438\n",
      " Learning Rate 1e-07\n",
      "\n",
      "Epoch number 27\n",
      " Current loss 2.818037986755371\n",
      " Learning Rate 1e-07\n",
      "\n",
      "Epoch number 28\n",
      " Current loss 1.5238269567489624\n",
      " Learning Rate 1e-07\n",
      "\n",
      "Epoch number 29\n",
      " Current loss 2.2005252838134766\n",
      " Learning Rate 1e-07\n",
      "\n",
      "Epoch number 30\n",
      " Current loss 1.0279757976531982\n",
      " Learning Rate 1e-07\n",
      "\n",
      "Epoch number 31\n",
      " Current loss 1.516857624053955\n",
      " Learning Rate 1e-07\n",
      "\n",
      "Epoch number 32\n",
      " Current loss 1.5640957355499268\n",
      " Learning Rate 1e-07\n",
      "\n",
      "Epoch number 33\n",
      " Current loss 1.0688307285308838\n",
      " Learning Rate 1e-07\n",
      "\n",
      "Epoch number 34\n",
      " Current loss 1.1159007549285889\n",
      " Learning Rate 1e-07\n",
      "\n",
      "Epoch number 35\n",
      " Current loss 1.0433270931243896\n",
      " Learning Rate 1e-07\n",
      "\n",
      "Epoch number 36\n",
      " Current loss 2.0800657272338867\n",
      " Learning Rate 1e-07\n",
      "\n",
      "Epoch number 37\n",
      " Current loss 1.8455374240875244\n",
      " Learning Rate 1e-07\n",
      "\n",
      "Epoch number 38\n",
      " Current loss 2.614046335220337\n",
      " Learning Rate 1e-07\n",
      "\n",
      "Epoch number 39\n",
      " Current loss 1.2661325931549072\n",
      " Learning Rate 1e-07\n",
      "\n",
      "Epoch number 40\n",
      " Current loss 1.6608076095581055\n",
      " Learning Rate 1e-07\n",
      "\n",
      "Epoch number 41\n",
      " Current loss 1.1068907976150513\n",
      " Learning Rate 1e-07\n",
      "\n",
      "Epoch number 42\n",
      " Current loss 1.712188482284546\n",
      " Learning Rate 1e-07\n",
      "\n",
      "Epoch number 43\n",
      " Current loss 2.071906566619873\n",
      " Learning Rate 1e-07\n",
      "\n",
      "Epoch number 44\n",
      " Current loss 1.2738099098205566\n",
      " Learning Rate 1e-07\n",
      "\n",
      "Epoch number 45\n",
      " Current loss 1.795544147491455\n",
      " Learning Rate 1e-07\n",
      "\n",
      "Epoch number 46\n",
      " Current loss 1.5066635608673096\n",
      " Learning Rate 1e-07\n",
      "\n",
      "Epoch number 47\n",
      " Current loss 2.0197200775146484\n",
      " Learning Rate 1e-07\n",
      "\n",
      "Epoch number 48\n",
      " Current loss 2.1090548038482666\n",
      " Learning Rate 1e-07\n",
      "\n",
      "Epoch number 49\n",
      " Current loss 2.286623001098633\n",
      " Learning Rate 1e-07\n",
      "\n",
      "Epoch number 50\n",
      " Current loss 1.7643275260925293\n",
      " Learning Rate 1e-07\n",
      "\n",
      "Epoch number 51\n",
      " Current loss 1.6265301704406738\n",
      " Learning Rate 1e-07\n",
      "\n",
      "Epoch number 52\n",
      " Current loss 1.9702619314193726\n",
      " Learning Rate 1e-07\n",
      "\n",
      "Epoch number 53\n",
      " Current loss 1.8461239337921143\n",
      " Learning Rate 1e-07\n",
      "\n",
      "Epoch number 54\n",
      " Current loss 0.8873195052146912\n",
      " Learning Rate 1e-07\n",
      "\n",
      "Epoch number 55\n",
      " Current loss 1.0095109939575195\n",
      " Learning Rate 1e-07\n",
      "\n",
      "Epoch number 56\n",
      " Current loss 1.3467941284179688\n",
      " Learning Rate 1e-07\n",
      "\n",
      "Epoch number 57\n",
      " Current loss 1.5807775259017944\n",
      " Learning Rate 1e-07\n",
      "\n",
      "Epoch number 58\n",
      " Current loss 1.4617326259613037\n",
      " Learning Rate 1e-07\n",
      "\n",
      "Epoch number 59\n",
      " Current loss 2.6179795265197754\n",
      " Learning Rate 1e-07\n",
      "\n",
      "Epoch number 60\n",
      " Current loss 1.1207525730133057\n",
      " Learning Rate 1e-07\n",
      "\n",
      "Epoch number 61\n",
      " Current loss 1.5840537548065186\n",
      " Learning Rate 1e-07\n",
      "\n",
      "Epoch number 62\n",
      " Current loss 1.1675631999969482\n",
      " Learning Rate 1e-07\n",
      "\n",
      "Epoch number 63\n",
      " Current loss 1.637835144996643\n",
      " Learning Rate 1e-07\n",
      "\n",
      "Epoch number 64\n",
      " Current loss 2.110708236694336\n",
      " Learning Rate 1e-07\n",
      "\n",
      "Epoch number 65\n",
      " Current loss 1.487630844116211\n",
      " Learning Rate 1e-07\n",
      "\n",
      "Epoch number 66\n",
      " Current loss 1.4635860919952393\n",
      " Learning Rate 1e-07\n",
      "\n",
      "Epoch number 67\n",
      " Current loss 2.4181976318359375\n",
      " Learning Rate 1e-07\n",
      "\n",
      "Epoch number 68\n",
      " Current loss 0.9025566577911377\n",
      " Learning Rate 1e-07\n",
      "\n",
      "Epoch number 69\n",
      " Current loss 1.8254194259643555\n",
      " Learning Rate 1e-07\n",
      "\n",
      "Epoch number 70\n",
      " Current loss 1.1108851432800293\n",
      " Learning Rate 1e-07\n",
      "\n",
      "Epoch number 71\n",
      " Current loss 1.849332332611084\n",
      " Learning Rate 1e-07\n",
      "\n",
      "Epoch number 72\n",
      " Current loss 1.7013747692108154\n",
      " Learning Rate 1e-07\n",
      "\n",
      "Epoch number 73\n",
      " Current loss 2.2917094230651855\n",
      " Learning Rate 1e-07\n",
      "\n",
      "Epoch number 74\n",
      " Current loss 1.5068278312683105\n",
      " Learning Rate 1e-07\n",
      "\n",
      "Epoch number 75\n",
      " Current loss 2.344974994659424\n",
      " Learning Rate 1e-07\n",
      "\n",
      "Epoch number 76\n",
      " Current loss 2.1374130249023438\n",
      " Learning Rate 1e-07\n",
      "\n",
      "Epoch number 77\n",
      " Current loss 1.429335117340088\n",
      " Learning Rate 1e-07\n",
      "\n",
      "Epoch number 78\n",
      " Current loss 1.171736717224121\n",
      " Learning Rate 1e-07\n",
      "\n",
      "Epoch number 79\n",
      " Current loss 0.7550791501998901\n",
      " Learning Rate 1e-07\n",
      "\n",
      "Epoch number 80\n",
      " Current loss 1.442500114440918\n",
      " Learning Rate 1e-07\n",
      "\n",
      "Epoch number 81\n",
      " Current loss 1.9351682662963867\n",
      " Learning Rate 1e-07\n",
      "\n",
      "Epoch number 82\n",
      " Current loss 1.7790896892547607\n",
      " Learning Rate 1e-07\n",
      "\n",
      "Epoch number 83\n",
      " Current loss 1.977458119392395\n",
      " Learning Rate 1e-07\n",
      "\n",
      "Epoch number 84\n",
      " Current loss 1.5348705053329468\n",
      " Learning Rate 1e-07\n",
      "\n",
      "Epoch number 85\n",
      " Current loss 1.944333791732788\n",
      " Learning Rate 1e-07\n",
      "\n",
      "Epoch number 86\n",
      " Current loss 0.8539867997169495\n",
      " Learning Rate 1e-07\n",
      "\n",
      "Epoch number 87\n",
      " Current loss 0.8125232458114624\n",
      " Learning Rate 1e-07\n",
      "\n",
      "Epoch number 88\n",
      " Current loss 1.5394253730773926\n",
      " Learning Rate 1e-07\n",
      "\n",
      "Epoch number 89\n",
      " Current loss 1.8905103206634521\n",
      " Learning Rate 1e-07\n",
      "\n",
      "Epoch number 90\n",
      " Current loss 1.4071202278137207\n",
      " Learning Rate 1e-07\n",
      "\n",
      "Epoch number 91\n",
      " Current loss 1.7368502616882324\n",
      " Learning Rate 1e-07\n",
      "\n",
      "Epoch number 92\n",
      " Current loss 0.3749999403953552\n",
      " Learning Rate 1e-07\n",
      "\n",
      "Epoch number 93\n",
      " Current loss 1.2580840587615967\n",
      " Learning Rate 1e-07\n",
      "\n",
      "Epoch number 94\n",
      " Current loss 1.5894427299499512\n",
      " Learning Rate 1e-07\n",
      "\n",
      "Epoch number 95\n",
      " Current loss 1.40297269821167\n",
      " Learning Rate 1e-07\n",
      "\n",
      "Epoch number 96\n",
      " Current loss 1.051741361618042\n",
      " Learning Rate 1e-07\n",
      "\n",
      "Epoch number 97\n",
      " Current loss 1.1690020561218262\n",
      " Learning Rate 1e-07\n",
      "\n",
      "Epoch number 98\n",
      " Current loss 1.8979179859161377\n",
      " Learning Rate 1e-07\n",
      "\n",
      "Epoch number 99\n",
      " Current loss 1.614076852798462\n",
      " Learning Rate 1e-07\n",
      "\n",
      "Model Saved Successfully\n"
     ]
    }
   ],
   "source": [
    "device = torch.device('cuda' if torch.cuda.is_available() else 'cpu')\n",
    "# Train the model\n",
    "model1,loss_history1 = train(net1,criterion)\n",
    "torch.save(model1.state_dict(), \"./model/model1.pt\")\n",
    "print(\"Model Saved Successfully\")"
   ]
  },
  {
   "cell_type": "code",
   "execution_count": 120,
   "metadata": {
    "scrolled": true
   },
   "outputs": [
    {
     "data": {
      "image/png": "[encoded data removed]",
      "text/plain": [
       "<Figure size 1080x1080 with 1 Axes>"
      ]
     },
     "metadata": {
      "needs_background": "light"
     },
     "output_type": "display_data"
    }
   ],
   "source": [
    "plot_loss(loss_history1)"
   ]
  },
  {
   "cell_type": "markdown",
   "metadata": {},
   "source": [
    "### No. Of Trainable Parameters"
   ]
  },
  {
   "cell_type": "code",
   "execution_count": 121,
   "metadata": {},
   "outputs": [
    {
     "name": "stdout",
     "output_type": "stream",
     "text": [
      "+--------------+------------+\n",
      "|   Modules    | Parameters |\n",
      "+--------------+------------+\n",
      "| fc1.0.weight |   128000   |\n",
      "|  fc1.0.bias  |    128     |\n",
      "| fc1.2.weight |    8192    |\n",
      "|  fc1.2.bias  |     64     |\n",
      "+--------------+------------+\n",
      "Total Trainable Params: 136384\n"
     ]
    },
    {
     "data": {
      "text/plain": [
       "136384"
      ]
     },
     "execution_count": 121,
     "metadata": {},
     "output_type": "execute_result"
    }
   ],
   "source": [
    "from prettytable import PrettyTable\n",
    "\n",
    "def count_parameters(model):\n",
    "    table = PrettyTable([\"Modules\", \"Parameters\"])\n",
    "    total_params = 0\n",
    "    for name, parameter in model.named_parameters():\n",
    "        if not parameter.requires_grad: continue\n",
    "        params = parameter.numel()\n",
    "        table.add_row([name, params])\n",
    "        total_params+=params\n",
    "    print(table)\n",
    "    print(f\"Total Trainable Params: {total_params}\")\n",
    "    return total_params\n",
    "    \n",
    "count_parameters(model1)"
   ]
  },
  {
   "cell_type": "markdown",
   "metadata": {},
   "source": [
    "### Testing"
   ]
  },
  {
   "cell_type": "code",
   "execution_count": 122,
   "metadata": {},
   "outputs": [],
   "source": [
    "# Load the test dataset\n",
    "test_dataset = SiameseNetworkDataset(training_csv=testing_csv,training_dir=data_dir,\n",
    "                                        transform=transforms.Compose([transforms.Resize((224,224)),\n",
    "                                                                      transforms.ToTensor()\n",
    "                                                                      ])\n",
    "                                       )\n",
    "\n",
    "test_dataloader = DataLoader(test_dataset,num_workers=6,batch_size=1,shuffle=True)"
   ]
  },
  {
   "cell_type": "markdown",
   "metadata": {},
   "source": [
    "### Prediction Model 1"
   ]
  },
  {
   "cell_type": "code",
   "execution_count": 123,
   "metadata": {
    "scrolled": true
   },
   "outputs": [
    {
     "data": {
      "text/plain": [
       "<All keys matched successfully>"
      ]
     },
     "execution_count": 123,
     "metadata": {},
     "output_type": "execute_result"
    }
   ],
   "source": [
    "# Load the saved model\n",
    "device = torch.device('cuda' if torch.cuda.is_available() else 'cpu')\n",
    "model = SiameseNetwork(resnet).to(device)\n",
    "model.load_state_dict(torch.load(\"./model/model1.pt\"))"
   ]
  },
  {
   "cell_type": "code",
   "execution_count": 124,
   "metadata": {
    "_uuid": "304edfa942e6bca5dc223e20257ff9a2b9b5cac3",
    "execution": {
     "iopub.execute_input": "2022-02-21T04:54:51.855607Z",
     "iopub.status.busy": "2022-02-21T04:54:51.852585Z",
     "iopub.status.idle": "2022-02-21T04:54:56.232342Z",
     "shell.execute_reply": "2022-02-21T04:54:56.231377Z",
     "shell.execute_reply.started": "2022-02-21T04:54:51.85556Z"
    },
    "id": "Zy5GPKz5vvxO"
   },
   "outputs": [
    {
     "name": "stdout",
     "output_type": "stream",
     "text": [
      "Accuracy :  0.7466666666666667\n"
     ]
    }
   ],
   "source": [
    "# Print the sample outputs to view its dissimilarity\n",
    "pos = 0\n",
    "counter=0\n",
    "list_0 = torch.FloatTensor([[0]])\n",
    "list_1 = torch.FloatTensor([[1]])\n",
    "for i, data in enumerate(test_dataloader,0): \n",
    "    x0, x1 , label = data\n",
    "    concatenated = torch.cat((x0,x1),0)\n",
    "    output1,output2 = model(x0.to(device),x1.to(device))\n",
    "    eucledian_distance = F.pairwise_distance(output1, output2)\n",
    "    \n",
    "    if eucledian_distance.item() <= 0.4:\n",
    "        pred = 0.0\n",
    "    else:\n",
    "        pred = 1.0\n",
    "        \n",
    "    if pred == label.item():\n",
    "        pos+=1\n",
    "        \n",
    "    if label==list_0:\n",
    "        label=\"Orginial\"\n",
    "    else:\n",
    "        label=\"Forged\"\n",
    "    #imshow(torchvision.utils.make_grid(concatenated),'Dissimilarity: {:.2f} Label: {}'.format(eucledian_distance.item(),label))\n",
    "    counter=counter+1\n",
    "        \n",
    "accuracy = pos/len(test_dataloader)\n",
    "print('Accuracy : ',accuracy)"
   ]
  }
 ],
 "metadata": {
  "kernelspec": {
   "display_name": "Python 3 (ipykernel)",
   "language": "python",
   "name": "python3"
  },
  "language_info": {
   "codemirror_mode": {
    "name": "ipython",
    "version": 3
   },
   "file_extension": ".py",
   "mimetype": "text/x-python",
   "name": "python",
   "nbconvert_exporter": "python",
   "pygments_lexer": "ipython3",
   "version": "3.8.10"
  }
 },
 "nbformat": 4,
 "nbformat_minor": 4
}
