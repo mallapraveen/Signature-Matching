{
 "cells": [
  {
   "cell_type": "code",
   "execution_count": 2,
   "id": "1dd5700a-331a-4179-9389-7609664ae7f7",
   "metadata": {},
   "outputs": [],
   "source": [
    "import os\n",
    "import pandas as pd\n",
    "import warnings\n",
    "warnings.filterwarnings('ignore')"
   ]
  },
  {
   "cell_type": "markdown",
   "id": "e961dfca-9680-4b17-9fa0-a134fdece1a2",
   "metadata": {
    "jp-MarkdownHeadingCollapsed": true,
    "tags": []
   },
   "source": [
    "### Rename Folder and Files in format"
   ]
  },
  {
   "cell_type": "code",
   "execution_count": 3,
   "id": "ab75e74f-b0ad-4a9e-9418-f1b0ca26eedc",
   "metadata": {},
   "outputs": [],
   "source": [
    "path = '../Signature Matching/input/custom/full'"
   ]
  },
  {
   "cell_type": "code",
   "execution_count": 140,
   "id": "eaf65e3f-d46e-4fc7-b6b0-76226fb4339c",
   "metadata": {},
   "outputs": [],
   "source": [
    "folders = os.listdir(path)\n",
    "for i in range(0,len(folders),2):\n",
    "    for tup in enumerate(os.listdir(path + '/' +folders[i])):\n",
    "        fold_path = path + '/' + folders[i] + '/' \n",
    "        if(tup[0]<10):\n",
    "            os.rename(fold_path + tup[1],fold_path + folders[i] + '_0' + str(tup[0]) + '.png')\n",
    "            #print(fold_path + tup[1],fold_path + folders[i] + '_0' + str(tup[0]) + '.png')\n",
    "        else:\n",
    "            os.rename(fold_path + tup[1],fold_path + folders[i] + '_' + str(tup[0]) + '.png')\n",
    "            #print(fold_path + tup[1],fold_path + folders[i] + '_' + str(tup[0]) + '.png')\n",
    "    for tup in enumerate(os.listdir(path + '/' +folders[i] + '_forg')):\n",
    "        fold_path = path + '/' + folders[i]+ '_forg' + '/' \n",
    "        if(tup[0]<10):\n",
    "            os.rename(fold_path + tup[1],fold_path + folders[i] + '_forg' + '_0' + str(tup[0]) + '.png')\n",
    "            #print(fold_path + tup[1],fold_path + folders[i] + '_forg' + '_0' + str(tup[0]) + '.png')\n",
    "        else:\n",
    "            os.rename(fold_path + tup[1],fold_path + folders[i] + '_forg' + '_' + str(tup[0]) + '.png')\n",
    "            #print(fold_path + tup[1],fold_path + folders[i] + '_forg' + '_' + str(tup[0]) + '.png')"
   ]
  },
  {
   "cell_type": "code",
   "execution_count": null,
   "id": "a599dfb0-9f18-4a6a-8ae3-18eb7a2a5a6b",
   "metadata": {},
   "outputs": [],
   "source": []
  },
  {
   "cell_type": "markdown",
   "id": "aafbd644-fd85-4831-bd0f-6e200d1e10af",
   "metadata": {
    "tags": []
   },
   "source": [
    "### Create Data CSV File"
   ]
  },
  {
   "cell_type": "code",
   "execution_count": 5,
   "id": "a4fadf38-529e-4b10-bc67-b4752df0a39d",
   "metadata": {
    "tags": []
   },
   "outputs": [
    {
     "name": "stderr",
     "output_type": "stream",
     "text": [
      "\n",
      "KeyboardInterrupt\n",
      "\n"
     ]
    }
   ],
   "source": [
    "%%time\n",
    "\n",
    "data = pd.DataFrame()\n",
    "\n",
    "folders = os.listdir('../Signature Matching/input/custom/full')\n",
    "for x in range(0,len(folders),2):\n",
    "    for y in os.listdir(path + '/' + folders[x]):\n",
    "        for z in os.listdir(path + './' + folders[x]):\n",
    "            if y != z:\n",
    "                data = data.append([[str(folders[x]) + '/' + y, str(folders[x]) + '/' + z, 1]])\n",
    "                \n",
    "for x in range(0,len(folders),2):\n",
    "    for y in os.listdir(path + '/' + folders[x]):\n",
    "        for z in os.listdir(path + './' + folders[x] + '_forg'):\n",
    "            data = data.append([[str(folders[x]) + '/' + y, str(folders[x]) + '_forg' + '/' + z, 0]])\n",
    "\n",
    "data.to_csv('./input/custom/data.csv',index=False)"
   ]
  },
  {
   "cell_type": "code",
   "execution_count": 20,
   "id": "a26c1e82-5901-439d-b015-a7cf7cdfb4e7",
   "metadata": {},
   "outputs": [],
   "source": [
    "from PIL import Image,ImageOps\n",
    "import os\n",
    "import numpy as np"
   ]
  },
  {
   "cell_type": "code",
   "execution_count": 41,
   "id": "a6256877-15d2-4ece-be49-c383bc311e6f",
   "metadata": {},
   "outputs": [
    {
     "name": "stdout",
     "output_type": "stream",
     "text": [
      "[[array([[243, 238, 241, ..., 240, 247, 242],\n",
      "       [247, 244, 244, ..., 245, 247, 242],\n",
      "       [247, 244, 246, ..., 244, 241, 242],\n",
      "       ...,\n",
      "       [244, 242, 243, ..., 240, 245, 243],\n",
      "       [239, 237, 242, ..., 241, 248, 246],\n",
      "       [240, 237, 239, ..., 242, 245, 243]], dtype=uint8), array([[241, 236, 232, ..., 239, 238, 238],\n",
      "       [234, 241, 234, ..., 243, 237, 240],\n",
      "       [239, 238, 234, ..., 242, 246, 241],\n",
      "       ...,\n",
      "       [235, 238, 236, ..., 235, 239, 237],\n",
      "       [235, 237, 240, ..., 231, 238, 240],\n",
      "       [241, 240, 236, ..., 236, 236, 234]], dtype=uint8)]] [[1]]\n"
     ]
    }
   ],
   "source": [
    "df = pd.read_csv('../Signature Matching/input/custom/test_data.csv').sample(frac=0.002)\n",
    "\n",
    "path = '../Signature Matching/input/custom/full'\n",
    "\n",
    "pairImages = []\n",
    "\n",
    "pairLabels = []\n",
    "\n",
    "for i in range(len(df)):\n",
    "    \n",
    "    img1 = os.path.join(path,df.iloc[i,0])\n",
    "    img1 = Image.open(img1)\n",
    "    img1 = ImageOps.grayscale(img1)\n",
    "    img1 = np.asarray(img1)\n",
    "    \n",
    "    img2 = os.path.join(path,df.iloc[i,1])\n",
    "    img2 = Image.open(img2)\n",
    "    img2 = ImageOps.grayscale(img2)\n",
    "    img2 = np.asarray(img2)\n",
    "    \n",
    "    \n",
    "    pairImages.append([img1, img2])\n",
    "\n",
    "    pairLabels.append([df.iloc[i,2]])\n",
    "    break\n",
    "\n",
    "print(pairImages,pairLabels)"
   ]
  },
  {
   "cell_type": "code",
   "execution_count": null,
   "id": "7363f546-f02f-45da-9bc0-abef370a8684",
   "metadata": {},
   "outputs": [],
   "source": [
    "def make_pairs(images, labels):\n",
    "\n",
    "  # initialize two empty lists to hold the (image, image) pairs and\n",
    "\n",
    "  # labels to indicate if a pair is positive or negative\n",
    "\n",
    "    pairImages = []\n",
    "\n",
    "    pairLabels = []\n",
    "\n",
    "    # loop over all images\n",
    "\n",
    "    for idxA in range(dataset):\n",
    "\n",
    "        # grab the current image and label belonging to the current\n",
    "\n",
    "        # iteration\n",
    "\n",
    "        currentImage = images[idxA]\n",
    "\n",
    "        label = labels[idxA]\n",
    "\n",
    "        # randomly pick an image that belongs to the *same* class\n",
    "\n",
    "        # label\n",
    "\n",
    "        idxB = np.random.choice(idx[label])\n",
    "\n",
    "        posImage = images[idxB]\n",
    "\n",
    "        # prepare a positive pair and update the images and labels\n",
    "\n",
    "        # lists, respectively\n",
    "\n",
    "        pairImages.append([currentImage, posImage])\n",
    "\n",
    "        pairLabels.append([1])\n",
    "\n",
    "        # grab the indices for each of the class labels *not* equal to\n",
    "\n",
    "        # the current label and randomly pick an image corresponding\n",
    "\n",
    "        # to a label *not* equal to the current label\n",
    "\n",
    "        negIdx = np.where(labels != label)[0]\n",
    "\n",
    "        negImage = images[np.random.choice(negIdx)]\n",
    "\n",
    "        # prepare a negative pair of images and update our lists\n",
    "\n",
    "        pairImages.append([currentImage, negImage])\n",
    "\n",
    "        pairLabels.append([0])\n",
    "\n",
    "  # return a 2-tuple of our image pairs and labels\n",
    "\n",
    "  return (np.array(pairImages), np.array(pairLabels)) "
   ]
  }
 ],
 "metadata": {
  "kernelspec": {
   "display_name": "Python 3 (ipykernel)",
   "language": "python",
   "name": "python3"
  },
  "language_info": {
   "codemirror_mode": {
    "name": "ipython",
    "version": 3
   },
   "file_extension": ".py",
   "mimetype": "text/x-python",
   "name": "python",
   "nbconvert_exporter": "python",
   "pygments_lexer": "ipython3",
   "version": "3.8.12"
  }
 },
 "nbformat": 4,
 "nbformat_minor": 5
}
