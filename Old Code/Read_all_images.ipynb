{
 "cells": [
  {
   "cell_type": "code",
   "execution_count": 1,
   "metadata": {},
   "outputs": [],
   "source": [
    "import os\n",
    "import sys\n",
    "import pickle\n",
    "# import skimage\n",
    "import numpy as np\n",
    "# from skimage.io import imread, imshow, imsave\n",
    "# from skimage.transform import resize\n",
    "import cv2\n",
    "from matplotlib import pyplot as plt\n",
    "%matplotlib inline"
   ]
  },
  {
   "cell_type": "code",
   "execution_count": 2,
   "metadata": {},
   "outputs": [],
   "source": [
    "from bulk_image_reader import read_all_images"
   ]
  },
  {
   "cell_type": "code",
   "execution_count": 3,
   "metadata": {},
   "outputs": [
    {
     "name": "stdout",
     "output_type": "stream",
     "text": [
      "Trying to read images from :  ./data/ICDAR-2011\n",
      "From Thread for : ./data/ICDAR-2011. Done !!! \n",
      "From Thread for : ./data/ICDAR-2011/trainingSet/OnlineSignatures/Dutch/TrainingSet/Online Forgeries. Done !!! \n",
      "From Thread for : ./data/ICDAR-2011/trainingSet/OnlineSignatures/Dutch/TrainingSet/Online Genuine. Done !!! \n",
      "From Thread for : ./data/ICDAR-2011/trainingSet/OnlineSignatures/Chinese/TrainingSet/Online Forgeries. Done !!! \n",
      "From Thread for : ./data/ICDAR-2011/trainingSet/OnlineSignatures/Chinese/TrainingSet/Online Genuine. Done !!! \n",
      "From Thread for : ./data/ICDAR-2011/Testdata_SigComp2011/SigComp11-Onlinetestset/Dutch/Reference(648)/021. Done !!! \n",
      "From Thread for : ./data/ICDAR-2011/Testdata_SigComp2011/SigComp11-Onlinetestset/Dutch/Reference(648)/031. Done !!! \n",
      "From Thread for : ./data/ICDAR-2011/Testdata_SigComp2011/SigComp11-Onlinetestset/Dutch/Reference(648)/025. Done !!! \n",
      "From Thread for : ./data/ICDAR-2011/Testdata_SigComp2011/SigComp11-Onlinetestset/Dutch/Reference(648)/018. Done !!! \n",
      "From Thread for : ./data/ICDAR-2011/Testdata_SigComp2011/SigComp11-Onlinetestset/Dutch/Reference(648)/048. Done !!! \n",
      "From Thread for : ./data/ICDAR-2011/Testdata_SigComp2011/SigComp11-Onlinetestset/Dutch/Reference(648)/038. Done !!! \n",
      "From Thread for : ./data/ICDAR-2011/Testdata_SigComp2011/SigComp11-Onlinetestset/Dutch/Reference(648)/035. Done !!! \n",
      "From Thread for : ./data/ICDAR-2011/Testdata_SigComp2011/SigComp11-Onlinetestset/Dutch/Reference(648)/041. Done !!! \n",
      "From Thread for : ./data/ICDAR-2011/Testdata_SigComp2011/SigComp11-Onlinetestset/Dutch/Reference(648)/029. Done !!! \n",
      "From Thread for : ./data/ICDAR-2011/Testdata_SigComp2011/SigComp11-Onlinetestset/Dutch/Reference(648)/046. Done !!! \n",
      "From Thread for : ./data/ICDAR-2011/Testdata_SigComp2011/SigComp11-Onlinetestset/Dutch/Reference(648)/017. Done !!! \n",
      "From Thread for : ./data/ICDAR-2011/Testdata_SigComp2011/SigComp11-Onlinetestset/Dutch/Reference(648)/049. Done !!! \n",
      "From Thread for : ./data/ICDAR-2011/Testdata_SigComp2011/SigComp11-Onlinetestset/Dutch/Reference(648)/034. Done !!! \n",
      "From Thread for : ./data/ICDAR-2011/Testdata_SigComp2011/SigComp11-Onlinetestset/Dutch/Reference(648)/028. Done !!! \n",
      "From Thread for : ./data/ICDAR-2011/Testdata_SigComp2011/SigComp11-Onlinetestset/Dutch/Reference(648)/027. Done !!! \n",
      "From Thread for : ./data/ICDAR-2011/Testdata_SigComp2011/SigComp11-Onlinetestset/Dutch/Reference(648)/033. Done !!! \n",
      "From Thread for : ./data/ICDAR-2011/Testdata_SigComp2011/SigComp11-Onlinetestset/Dutch/Reference(648)/064. Done !!! \n",
      "From Thread for : ./data/ICDAR-2011/Testdata_SigComp2011/SigComp11-Onlinetestset/Dutch/Reference(648)/066. Done !!! \n",
      "From Thread for : ./data/ICDAR-2011/Testdata_SigComp2011/SigComp11-Onlinetestset/Dutch/Reference(648)/022. Done !!! From Thread for : ./data/ICDAR-2011/Testdata_SigComp2011/SigComp11-Onlinetestset/Dutch/Reference(648)/067. Done !!! \n",
      "\n",
      "From Thread for : ./data/ICDAR-2011/Testdata_SigComp2011/SigComp11-Onlinetestset/Dutch/Reference(648)/013. Done !!! \n",
      "From Thread for : ./data/ICDAR-2011/Testdata_SigComp2011/SigComp11-Onlinetestset/Dutch/Reference(648)/024. Done !!! \n",
      "From Thread for : ./data/ICDAR-2011/Testdata_SigComp2011/SigComp11-Onlinetestset/Dutch/Reference(648)/044. Done !!! \n",
      "From Thread for : ./data/ICDAR-2011/Testdata_SigComp2011/SigComp11-Onlinetestset/Dutch/Reference(648)/059. Done !!! \n",
      "From Thread for : ./data/ICDAR-2011/Testdata_SigComp2011/SigComp11-Onlinetestset/Dutch/Reference(648)/063. Done !!! \n",
      "From Thread for : ./data/ICDAR-2011/Testdata_SigComp2011/SigComp11-Onlinetestset/Dutch/Reference(648)/040. Done !!! \n",
      "From Thread for : ./data/ICDAR-2011/Testdata_SigComp2011/SigComp11-Onlinetestset/Dutch/Reference(648)/062. Done !!! \n",
      "From Thread for : ./data/ICDAR-2011/Testdata_SigComp2011/SigComp11-Onlinetestset/Dutch/Reference(648)/051. Done !!! \n",
      "From Thread for : ./data/ICDAR-2011/Testdata_SigComp2011/SigComp11-Onlinetestset/Dutch/Reference(648)/023. Done !!! \n",
      "From Thread for : ./data/ICDAR-2011/Testdata_SigComp2011/SigComp11-Onlinetestset/Dutch/Reference(648)/057. Done !!! \n",
      "From Thread for : ./data/ICDAR-2011/Testdata_SigComp2011/SigComp11-Onlinetestset/Dutch/Reference(648)/068. Done !!! \n",
      "From Thread for : ./data/ICDAR-2011/Testdata_SigComp2011/SigComp11-Onlinetestset/Dutch/Reference(648)/043. Done !!! \n",
      "From Thread for : ./data/ICDAR-2011/Testdata_SigComp2011/SigComp11-Onlinetestset/Dutch/Reference(648)/050. Done !!! \n",
      "From Thread for : ./data/ICDAR-2011/Testdata_SigComp2011/SigComp11-Onlinetestset/Dutch/Reference(648)/058. Done !!! \n",
      "From Thread for : ./data/ICDAR-2011/Testdata_SigComp2011/SigComp11-Onlinetestset/Dutch/Reference(648)/053. Done !!! \n",
      "From Thread for : ./data/ICDAR-2011/Testdata_SigComp2011/SigComp11-Onlinetestset/Dutch/Reference(648)/026. Done !!! \n",
      "From Thread for : ./data/ICDAR-2011/Testdata_SigComp2011/SigComp11-Onlinetestset/Dutch/Reference(648)/037. Done !!! \n",
      "From Thread for : ./data/ICDAR-2011/Testdata_SigComp2011/SigComp11-Onlinetestset/Dutch/Reference(648)/039. Done !!! \n",
      "From Thread for : ./data/ICDAR-2011/Testdata_SigComp2011/SigComp11-Onlinetestset/Dutch/Reference(648)/065. Done !!! \n",
      "From Thread for : ./data/ICDAR-2011/Testdata_SigComp2011/SigComp11-Onlinetestset/Dutch/Reference(648)/020. Done !!! \n",
      "From Thread for : ./data/ICDAR-2011/Testdata_SigComp2011/SigComp11-Onlinetestset/Dutch/Reference(648)/054. Done !!! \n",
      "From Thread for : ./data/ICDAR-2011/Testdata_SigComp2011/SigComp11-Onlinetestset/Dutch/Reference(648)/042. Done !!! \n",
      "From Thread for : ./data/ICDAR-2011/Testdata_SigComp2011/SigComp11-Onlinetestset/Dutch/Reference(648)/045. Done !!! \n",
      "From Thread for : ./data/ICDAR-2011/Testdata_SigComp2011/SigComp11-Onlinetestset/Dutch/Reference(648)/032. Done !!! \n",
      "From Thread for : ./data/ICDAR-2011/Testdata_SigComp2011/SigComp11-Onlinetestset/Dutch/Reference(648)/047. Done !!! \n",
      "From Thread for : ./data/ICDAR-2011/Testdata_SigComp2011/SigComp11-Onlinetestset/Dutch/Reference(648)/069. Done !!! \n",
      "From Thread for : ./data/ICDAR-2011/Testdata_SigComp2011/SigComp11-Onlinetestset/Dutch/Reference(648)/052. Done !!! \n",
      "From Thread for : ./data/ICDAR-2011/Testdata_SigComp2011/SigComp11-Onlinetestset/Dutch/Reference(648)/036. Done !!! \n",
      "From Thread for : ./data/ICDAR-2011/Testdata_SigComp2011/SigComp11-Onlinetestset/Dutch/Reference(648)/030. Done !!! \n",
      "From Thread for : ./data/ICDAR-2011/Testdata_SigComp2011/SigComp11-Onlinetestset/Dutch/Reference(648)/061. Done !!! \n",
      "From Thread for : ./data/ICDAR-2011/Testdata_SigComp2011/SigComp11-Onlinetestset/Dutch/Reference(648)/056. Done !!! \n",
      "From Thread for : ./data/ICDAR-2011/Testdata_SigComp2011/SigComp11-Onlinetestset/Dutch/Reference(648)/060. Done !!! \n",
      "From Thread for : ./data/ICDAR-2011/Testdata_SigComp2011/SigComp11-Onlinetestset/Dutch/Reference(648)/019. Done !!! \n",
      "From Thread for : ./data/ICDAR-2011/Testdata_SigComp2011/SigComp11-Onlinetestset/Dutch/Reference(648)/055. Done !!! \n",
      "From Thread for : ./data/ICDAR-2011/Testdata_SigComp2011/SigComp11-Onlinetestset/Dutch/Questioned(1259)/021. Done !!! \n",
      "From Thread for : ./data/ICDAR-2011/Testdata_SigComp2011/SigComp11-Onlinetestset/Dutch/Questioned(1259)/031. Done !!! \n",
      "From Thread for : ./data/ICDAR-2011/Testdata_SigComp2011/SigComp11-Onlinetestset/Dutch/Questioned(1259)/025. Done !!! \n",
      "From Thread for : ./data/ICDAR-2011/Testdata_SigComp2011/SigComp11-Onlinetestset/Dutch/Questioned(1259)/018. Done !!! \n",
      "From Thread for : ./data/ICDAR-2011/Testdata_SigComp2011/SigComp11-Onlinetestset/Dutch/Questioned(1259)/048. Done !!! \n",
      "From Thread for : ./data/ICDAR-2011/Testdata_SigComp2011/SigComp11-Onlinetestset/Dutch/Questioned(1259)/038. Done !!! \n",
      "From Thread for : ./data/ICDAR-2011/Testdata_SigComp2011/SigComp11-Onlinetestset/Dutch/Questioned(1259)/035. Done !!! \n",
      "From Thread for : ./data/ICDAR-2011/Testdata_SigComp2011/SigComp11-Onlinetestset/Dutch/Questioned(1259)/041. Done !!! \n",
      "From Thread for : ./data/ICDAR-2011/Testdata_SigComp2011/SigComp11-Onlinetestset/Dutch/Questioned(1259)/029. Done !!! \n",
      "From Thread for : ./data/ICDAR-2011/Testdata_SigComp2011/SigComp11-Onlinetestset/Dutch/Questioned(1259)/046. Done !!! \n",
      "From Thread for : ./data/ICDAR-2011/Testdata_SigComp2011/SigComp11-Onlinetestset/Dutch/Questioned(1259)/017. Done !!! \n",
      "From Thread for : ./data/ICDAR-2011/Testdata_SigComp2011/SigComp11-Onlinetestset/Dutch/Questioned(1259)/049. Done !!! \n",
      "From Thread for : ./data/ICDAR-2011/Testdata_SigComp2011/SigComp11-Onlinetestset/Dutch/Questioned(1259)/034. Done !!! \n",
      "From Thread for : ./data/ICDAR-2011/Testdata_SigComp2011/SigComp11-Onlinetestset/Dutch/Questioned(1259)/028. Done !!! \n",
      "From Thread for : ./data/ICDAR-2011/Testdata_SigComp2011/SigComp11-Onlinetestset/Dutch/Questioned(1259)/027. Done !!! \n",
      "From Thread for : ./data/ICDAR-2011/Testdata_SigComp2011/SigComp11-Onlinetestset/Dutch/Questioned(1259)/033. Done !!! \n",
      "From Thread for : ./data/ICDAR-2011/Testdata_SigComp2011/SigComp11-Onlinetestset/Dutch/Questioned(1259)/064. Done !!! \n",
      "From Thread for : ./data/ICDAR-2011/Testdata_SigComp2011/SigComp11-Onlinetestset/Dutch/Questioned(1259)/066. Done !!! \n",
      "From Thread for : ./data/ICDAR-2011/Testdata_SigComp2011/SigComp11-Onlinetestset/Dutch/Questioned(1259)/022. Done !!! \n",
      "From Thread for : ./data/ICDAR-2011/Testdata_SigComp2011/SigComp11-Onlinetestset/Dutch/Questioned(1259)/067. Done !!! \n",
      "From Thread for : ./data/ICDAR-2011/Testdata_SigComp2011/SigComp11-Onlinetestset/Dutch/Questioned(1259)/013. Done !!! From Thread for : ./data/ICDAR-2011/Testdata_SigComp2011/SigComp11-Onlinetestset/Dutch/Questioned(1259)/024. Done !!! \n",
      "\n",
      "From Thread for : ./data/ICDAR-2011/Testdata_SigComp2011/SigComp11-Onlinetestset/Dutch/Questioned(1259)/044. Done !!! \n",
      "From Thread for : ./data/ICDAR-2011/Testdata_SigComp2011/SigComp11-Onlinetestset/Dutch/Questioned(1259)/059. Done !!! \n",
      "From Thread for : ./data/ICDAR-2011/Testdata_SigComp2011/SigComp11-Onlinetestset/Dutch/Questioned(1259)/063. Done !!! \n",
      "From Thread for : ./data/ICDAR-2011/Testdata_SigComp2011/SigComp11-Onlinetestset/Dutch/Questioned(1259)/040. Done !!! \n",
      "From Thread for : ./data/ICDAR-2011/Testdata_SigComp2011/SigComp11-Onlinetestset/Dutch/Questioned(1259)/062. Done !!! \n",
      "From Thread for : ./data/ICDAR-2011/Testdata_SigComp2011/SigComp11-Onlinetestset/Dutch/Questioned(1259)/051. Done !!! \n",
      "From Thread for : ./data/ICDAR-2011/Testdata_SigComp2011/SigComp11-Onlinetestset/Dutch/Questioned(1259)/023. Done !!! \n",
      "From Thread for : ./data/ICDAR-2011/Testdata_SigComp2011/SigComp11-Onlinetestset/Dutch/Questioned(1259)/057. Done !!! \n",
      "From Thread for : ./data/ICDAR-2011/Testdata_SigComp2011/SigComp11-Onlinetestset/Dutch/Questioned(1259)/068. Done !!! From Thread for : ./data/ICDAR-2011/trainingSet/OfflineSignatures/Dutch/TrainingSet/Offline Forgeries. Done !!! \n",
      "\n",
      "From Thread for : ./data/ICDAR-2011/Testdata_SigComp2011/SigComp11-Onlinetestset/Dutch/Questioned(1259)/043. Done !!! \n",
      "From Thread for : ./data/ICDAR-2011/Testdata_SigComp2011/SigComp11-Onlinetestset/Dutch/Questioned(1259)/050. Done !!! \n",
      "From Thread for : ./data/ICDAR-2011/Testdata_SigComp2011/SigComp11-Onlinetestset/Dutch/Questioned(1259)/058. Done !!! \n",
      "From Thread for : ./data/ICDAR-2011/Testdata_SigComp2011/SigComp11-Onlinetestset/Dutch/Questioned(1259)/053. Done !!! \n",
      "From Thread for : ./data/ICDAR-2011/Testdata_SigComp2011/SigComp11-Onlinetestset/Dutch/Questioned(1259)/026. Done !!! \n",
      "From Thread for : ./data/ICDAR-2011/Testdata_SigComp2011/SigComp11-Onlinetestset/Dutch/Questioned(1259)/037. Done !!! \n",
      "From Thread for : ./data/ICDAR-2011/Testdata_SigComp2011/SigComp11-Onlinetestset/Dutch/Questioned(1259)/039. Done !!! \n",
      "From Thread for : ./data/ICDAR-2011/Testdata_SigComp2011/SigComp11-Onlinetestset/Dutch/Questioned(1259)/065. Done !!! \n",
      "From Thread for : ./data/ICDAR-2011/Testdata_SigComp2011/SigComp11-Onlinetestset/Dutch/Questioned(1259)/020. Done !!! \n",
      "From Thread for : ./data/ICDAR-2011/Testdata_SigComp2011/SigComp11-Onlinetestset/Dutch/Questioned(1259)/054. Done !!! \n",
      "From Thread for : ./data/ICDAR-2011/Testdata_SigComp2011/SigComp11-Onlinetestset/Dutch/Questioned(1259)/042. Done !!! \n",
      "From Thread for : ./data/ICDAR-2011/Testdata_SigComp2011/SigComp11-Onlinetestset/Dutch/Questioned(1259)/045. Done !!! \n",
      "From Thread for : ./data/ICDAR-2011/Testdata_SigComp2011/SigComp11-Onlinetestset/Dutch/Questioned(1259)/032. Done !!! \n",
      "From Thread for : ./data/ICDAR-2011/Testdata_SigComp2011/SigComp11-Onlinetestset/Dutch/Questioned(1259)/047. Done !!! \n",
      "From Thread for : ./data/ICDAR-2011/Testdata_SigComp2011/SigComp11-Onlinetestset/Dutch/Questioned(1259)/069. Done !!! \n",
      "From Thread for : ./data/ICDAR-2011/Testdata_SigComp2011/SigComp11-Onlinetestset/Dutch/Questioned(1259)/052. Done !!! \n",
      "From Thread for : ./data/ICDAR-2011/Testdata_SigComp2011/SigComp11-Onlinetestset/Dutch/Questioned(1259)/036. Done !!! \n",
      "From Thread for : ./data/ICDAR-2011/Testdata_SigComp2011/SigComp11-Onlinetestset/Dutch/Questioned(1259)/030. Done !!! \n",
      "From Thread for : ./data/ICDAR-2011/Testdata_SigComp2011/SigComp11-Onlinetestset/Dutch/Questioned(1259)/061. Done !!! \n",
      "From Thread for : ./data/ICDAR-2011/Testdata_SigComp2011/SigComp11-Onlinetestset/Dutch/Questioned(1259)/056. Done !!! \n",
      "From Thread for : ./data/ICDAR-2011/Testdata_SigComp2011/SigComp11-Onlinetestset/Dutch/Questioned(1259)/060. Done !!! \n",
      "From Thread for : ./data/ICDAR-2011/Testdata_SigComp2011/SigComp11-Onlinetestset/Dutch/Questioned(1259)/019. Done !!! \n",
      "From Thread for : ./data/ICDAR-2011/Testdata_SigComp2011/SigComp11-Onlinetestset/Dutch/Questioned(1259)/055. Done !!! \n",
      "From Thread for : ./data/ICDAR-2011/Testdata_SigComp2011/SigComp11-Onlinetestset/Chinese/Reference(94)/012. Done !!! \n",
      "From Thread for : ./data/ICDAR-2011/Testdata_SigComp2011/SigComp11-Onlinetestset/Chinese/Reference(94)/018. Done !!! \n",
      "From Thread for : ./data/ICDAR-2011/Testdata_SigComp2011/SigComp11-Onlinetestset/Chinese/Reference(94)/017. Done !!! \n",
      "From Thread for : ./data/ICDAR-2011/Testdata_SigComp2011/SigComp11-Onlinetestset/Chinese/Reference(94)/016. Done !!! \n",
      "From Thread for : ./data/ICDAR-2011/Testdata_SigComp2011/SigComp11-Onlinetestset/Chinese/Reference(94)/013. Done !!! \n",
      "From Thread for : ./data/ICDAR-2011/Testdata_SigComp2011/SigComp11-Onlinetestset/Chinese/Reference(94)/014. Done !!! \n",
      "From Thread for : ./data/ICDAR-2011/Testdata_SigComp2011/SigComp11-Onlinetestset/Chinese/Reference(94)/011. Done !!! \n",
      "From Thread for : ./data/ICDAR-2011/Testdata_SigComp2011/SigComp11-Onlinetestset/Chinese/Reference(94)/015. Done !!! \n",
      "From Thread for : ./data/ICDAR-2011/Testdata_SigComp2011/SigComp11-Onlinetestset/Chinese/Reference(94)/020. Done !!! \n",
      "From Thread for : ./data/ICDAR-2011/Testdata_SigComp2011/SigComp11-Onlinetestset/Chinese/Reference(94)/019. Done !!! \n",
      "From Thread for : ./data/ICDAR-2011/Testdata_SigComp2011/SigComp11-Onlinetestset/Chinese/Questioned(586)/012. Done !!! \n",
      "From Thread for : ./data/ICDAR-2011/Testdata_SigComp2011/SigComp11-Onlinetestset/Chinese/Questioned(586)/018. Done !!! \n",
      "From Thread for : ./data/ICDAR-2011/Testdata_SigComp2011/SigComp11-Onlinetestset/Chinese/Questioned(586)/017. Done !!! \n",
      "From Thread for : ./data/ICDAR-2011/Testdata_SigComp2011/SigComp11-Onlinetestset/Chinese/Questioned(586)/016. Done !!! From Thread for : ./data/ICDAR-2011/Testdata_SigComp2011/SigComp11-Onlinetestset/Chinese/Questioned(586)/013. Done !!! \n",
      "\n",
      "From Thread for : ./data/ICDAR-2011/Testdata_SigComp2011/SigComp11-Onlinetestset/Chinese/Questioned(586)/014. Done !!! \n",
      "From Thread for : ./data/ICDAR-2011/Testdata_SigComp2011/SigComp11-Onlinetestset/Chinese/Questioned(586)/011. Done !!! \n",
      "From Thread for : ./data/ICDAR-2011/Testdata_SigComp2011/SigComp11-Onlinetestset/Chinese/Questioned(586)/015. Done !!! \n",
      "From Thread for : ./data/ICDAR-2011/Testdata_SigComp2011/SigComp11-Onlinetestset/Chinese/Questioned(586)/020. Done !!! \n",
      "From Thread for : ./data/ICDAR-2011/Testdata_SigComp2011/SigComp11-Onlinetestset/Chinese/Questioned(586)/019. Done !!! \n",
      "From Thread for : ./data/ICDAR-2011/Testdata_SigComp2011/SigComp11-Offlinetestset/Dutch/Questioned(1287)/048. Done !!! \n",
      "From Thread for : ./data/ICDAR-2011/Testdata_SigComp2011/SigComp11-Offlinetestset/Dutch/Questioned(1287)/025. Done !!! \n",
      "From Thread for : ./data/ICDAR-2011/Testdata_SigComp2011/SigComp11-Offlinetestset/Dutch/Questioned(1287)/035. Done !!! \n",
      "From Thread for : ./data/ICDAR-2011/Testdata_SigComp2011/SigComp11-Offlinetestset/Dutch/Questioned(1287)/041. Done !!! \n",
      "From Thread for : ./data/ICDAR-2011/Testdata_SigComp2011/SigComp11-Offlinetestset/Dutch/Questioned(1287)/031. Done !!! \n",
      "From Thread for : ./data/ICDAR-2011/Testdata_SigComp2011/SigComp11-Offlinetestset/Dutch/Questioned(1287)/018. Done !!! \n",
      "From Thread for : ./data/ICDAR-2011/Testdata_SigComp2011/SigComp11-Offlinetestset/Dutch/Questioned(1287)/038. Done !!! \n",
      "From Thread for : ./data/ICDAR-2011/Testdata_SigComp2011/SigComp11-Offlinetestset/Dutch/Questioned(1287)/017. Done !!! \n",
      "From Thread for : ./data/ICDAR-2011/Testdata_SigComp2011/SigComp11-Offlinetestset/Dutch/Questioned(1287)/029. Done !!! \n",
      "From Thread for : ./data/ICDAR-2011/Testdata_SigComp2011/SigComp11-Offlinetestset/Dutch/Questioned(1287)/033. Done !!! \n",
      "From Thread for : ./data/ICDAR-2011/Testdata_SigComp2011/SigComp11-Offlinetestset/Dutch/Questioned(1287)/021. Done !!! From Thread for : ./data/ICDAR-2011/Testdata_SigComp2011/SigComp11-Offlinetestset/Dutch/Questioned(1287)/046. Done !!! \n",
      "\n",
      "From Thread for : ./data/ICDAR-2011/Testdata_SigComp2011/SigComp11-Offlinetestset/Dutch/Questioned(1287)/027. Done !!! \n",
      "From Thread for : ./data/ICDAR-2011/Testdata_SigComp2011/SigComp11-Offlinetestset/Dutch/Questioned(1287)/064. Done !!! \n",
      "From Thread for : ./data/ICDAR-2011/Testdata_SigComp2011/SigComp11-Offlinetestset/Dutch/Questioned(1287)/049. Done !!! \n",
      "From Thread for : ./data/ICDAR-2011/Testdata_SigComp2011/SigComp11-Offlinetestset/Dutch/Questioned(1287)/028. Done !!! \n",
      "From Thread for : ./data/ICDAR-2011/Testdata_SigComp2011/SigComp11-Offlinetestset/Dutch/Questioned(1287)/034. Done !!! \n",
      "From Thread for : ./data/ICDAR-2011/Testdata_SigComp2011/SigComp11-Offlinetestset/Dutch/Questioned(1287)/013. Done !!! \n",
      "From Thread for : ./data/ICDAR-2011/Testdata_SigComp2011/SigComp11-Offlinetestset/Dutch/Questioned(1287)/066. Done !!! \n",
      "From Thread for : ./data/ICDAR-2011/Testdata_SigComp2011/SigComp11-Offlinetestset/Dutch/Questioned(1287)/044. Done !!! \n",
      "From Thread for : ./data/ICDAR-2011/Testdata_SigComp2011/SigComp11-Offlinetestset/Dutch/Questioned(1287)/067. Done !!! \n",
      "From Thread for : ./data/ICDAR-2011/Testdata_SigComp2011/SigComp11-Offlinetestset/Dutch/Questioned(1287)/040. Done !!! \n",
      "From Thread for : ./data/ICDAR-2011/Testdata_SigComp2011/SigComp11-Offlinetestset/Dutch/Questioned(1287)/059. Done !!! \n",
      "From Thread for : ./data/ICDAR-2011/Testdata_SigComp2011/SigComp11-Offlinetestset/Dutch/Questioned(1287)/024. Done !!! \n",
      "From Thread for : ./data/ICDAR-2011/Testdata_SigComp2011/SigComp11-Offlinetestset/Dutch/Questioned(1287)/068. Done !!! \n",
      "From Thread for : ./data/ICDAR-2011/Testdata_SigComp2011/SigComp11-Offlinetestset/Dutch/Questioned(1287)/063. Done !!! \n",
      "From Thread for : ./data/ICDAR-2011/Testdata_SigComp2011/SigComp11-Offlinetestset/Dutch/Questioned(1287)/043. Done !!! \n",
      "From Thread for : ./data/ICDAR-2011/Testdata_SigComp2011/SigComp11-Offlinetestset/Dutch/Questioned(1287)/057. Done !!! \n",
      "From Thread for : ./data/ICDAR-2011/Testdata_SigComp2011/SigComp11-Offlinetestset/Dutch/Questioned(1287)/062. Done !!! \n",
      "From Thread for : ./data/ICDAR-2011/Testdata_SigComp2011/SigComp11-Offlinetestset/Dutch/Questioned(1287)/022. Done !!! \n",
      "From Thread for : ./data/ICDAR-2011/Testdata_SigComp2011/SigComp11-Offlinetestset/Dutch/Questioned(1287)/026. Done !!! \n",
      "From Thread for : ./data/ICDAR-2011/Testdata_SigComp2011/SigComp11-Offlinetestset/Dutch/Questioned(1287)/039. Done !!! \n",
      "From Thread for : ./data/ICDAR-2011/Testdata_SigComp2011/SigComp11-Offlinetestset/Dutch/Questioned(1287)/050. Done !!! \n",
      "From Thread for : ./data/ICDAR-2011/Testdata_SigComp2011/SigComp11-Offlinetestset/Dutch/Questioned(1287)/032. Done !!! \n",
      "From Thread for : ./data/ICDAR-2011/Testdata_SigComp2011/SigComp11-Offlinetestset/Dutch/Questioned(1287)/023. Done !!! \n",
      "From Thread for : ./data/ICDAR-2011/Testdata_SigComp2011/SigComp11-Offlinetestset/Dutch/Questioned(1287)/065. Done !!! \n",
      "From Thread for : ./data/ICDAR-2011/Testdata_SigComp2011/SigComp11-Offlinetestset/Dutch/Questioned(1287)/037. Done !!! \n",
      "From Thread for : ./data/ICDAR-2011/Testdata_SigComp2011/SigComp11-Offlinetestset/Dutch/Questioned(1287)/061. Done !!! \n",
      "From Thread for : ./data/ICDAR-2011/Testdata_SigComp2011/SigComp11-Offlinetestset/Dutch/Questioned(1287)/051. Done !!! \n",
      "From Thread for : ./data/ICDAR-2011/Testdata_SigComp2011/SigComp11-Offlinetestset/Dutch/Questioned(1287)/045. Done !!! \n",
      "From Thread for : ./data/ICDAR-2011/Testdata_SigComp2011/SigComp11-Offlinetestset/Dutch/Questioned(1287)/030. Done !!! \n",
      "From Thread for : ./data/ICDAR-2011/Testdata_SigComp2011/SigComp11-Offlinetestset/Dutch/Questioned(1287)/054. Done !!! \n",
      "From Thread for : ./data/ICDAR-2011/Testdata_SigComp2011/SigComp11-Offlinetestset/Dutch/Reference(646)/025. Done !!! \n",
      "From Thread for : ./data/ICDAR-2011/Testdata_SigComp2011/SigComp11-Offlinetestset/Dutch/Reference(646)/048. Done !!! \n",
      "From Thread for : ./data/ICDAR-2011/Testdata_SigComp2011/SigComp11-Offlinetestset/Dutch/Questioned(1287)/058. Done !!! \n",
      "From Thread for : ./data/ICDAR-2011/trainingSet/OfflineSignatures/Dutch/TrainingSet/Offline Genuine. Done !!! \n",
      "From Thread for : ./data/ICDAR-2011/Testdata_SigComp2011/SigComp11-Offlinetestset/Dutch/Questioned(1287)/053. Done !!! \n",
      "From Thread for : ./data/ICDAR-2011/Testdata_SigComp2011/SigComp11-Offlinetestset/Dutch/Questioned(1287)/047. Done !!! \n",
      "From Thread for : ./data/ICDAR-2011/Testdata_SigComp2011/SigComp11-Offlinetestset/Dutch/Questioned(1287)/052. Done !!! \n",
      "From Thread for : ./data/ICDAR-2011/Testdata_SigComp2011/SigComp11-Offlinetestset/Dutch/Reference(646)/035. Done !!! \n",
      "From Thread for : ./data/ICDAR-2011/Testdata_SigComp2011/SigComp11-Offlinetestset/Dutch/Questioned(1287)/069. Done !!! \n",
      "From Thread for : ./data/ICDAR-2011/Testdata_SigComp2011/SigComp11-Offlinetestset/Dutch/Questioned(1287)/056. Done !!! \n",
      "From Thread for : ./data/ICDAR-2011/Testdata_SigComp2011/SigComp11-Offlinetestset/Dutch/Reference(646)/041. Done !!! \n",
      "From Thread for : ./data/ICDAR-2011/Testdata_SigComp2011/SigComp11-Offlinetestset/Dutch/Reference(646)/021. Done !!! \n",
      "From Thread for : ./data/ICDAR-2011/Testdata_SigComp2011/SigComp11-Offlinetestset/Dutch/Reference(646)/038. Done !!! From Thread for : ./data/ICDAR-2011/Testdata_SigComp2011/SigComp11-Offlinetestset/Dutch/Reference(646)/017. Done !!! \n",
      "From Thread for : ./data/ICDAR-2011/Testdata_SigComp2011/SigComp11-Offlinetestset/Dutch/Reference(646)/031. Done !!! \n",
      "\n",
      "From Thread for : ./data/ICDAR-2011/Testdata_SigComp2011/SigComp11-Offlinetestset/Dutch/Questioned(1287)/042. Done !!! \n",
      "From Thread for : ./data/ICDAR-2011/Testdata_SigComp2011/SigComp11-Offlinetestset/Dutch/Questioned(1287)/036. Done !!! \n",
      "From Thread for : ./data/ICDAR-2011/Testdata_SigComp2011/SigComp11-Offlinetestset/Dutch/Questioned(1287)/020. Done !!! \n",
      "From Thread for : ./data/ICDAR-2011/Testdata_SigComp2011/SigComp11-Offlinetestset/Dutch/Questioned(1287)/055. Done !!! \n",
      "From Thread for : ./data/ICDAR-2011/Testdata_SigComp2011/SigComp11-Offlinetestset/Dutch/Questioned(1287)/060. Done !!! \n",
      "From Thread for : ./data/ICDAR-2011/Testdata_SigComp2011/SigComp11-Offlinetestset/Dutch/Reference(646)/029. Done !!! \n",
      "From Thread for : ./data/ICDAR-2011/Testdata_SigComp2011/SigComp11-Offlinetestset/Dutch/Reference(646)/033. Done !!! From Thread for : ./data/ICDAR-2011/Testdata_SigComp2011/SigComp11-Offlinetestset/Dutch/Reference(646)/046. Done !!! \n",
      "\n",
      "From Thread for : ./data/ICDAR-2011/Testdata_SigComp2011/SigComp11-Offlinetestset/Dutch/Reference(646)/018. Done !!! \n",
      "From Thread for : ./data/ICDAR-2011/Testdata_SigComp2011/SigComp11-Offlinetestset/Dutch/Questioned(1287)/019. Done !!! \n",
      "From Thread for : ./data/ICDAR-2011/Testdata_SigComp2011/SigComp11-Offlinetestset/Dutch/Reference(646)/027. Done !!! \n",
      "From Thread for : ./data/ICDAR-2011/Testdata_SigComp2011/SigComp11-Offlinetestset/Dutch/Reference(646)/066. Done !!! From Thread for : ./data/ICDAR-2011/Testdata_SigComp2011/SigComp11-Offlinetestset/Dutch/Reference(646)/028. Done !!! \n",
      "From Thread for : ./data/ICDAR-2011/Testdata_SigComp2011/SigComp11-Offlinetestset/Dutch/Reference(646)/034. Done !!! \n",
      "\n",
      "From Thread for : ./data/ICDAR-2011/Testdata_SigComp2011/SigComp11-Offlinetestset/Dutch/Reference(646)/040. Done !!! \n",
      "From Thread for : ./data/ICDAR-2011/Testdata_SigComp2011/SigComp11-Offlinetestset/Dutch/Reference(646)/044. Done !!! \n",
      "From Thread for : ./data/ICDAR-2011/Testdata_SigComp2011/SigComp11-Offlinetestset/Dutch/Reference(646)/013. Done !!! \n",
      "From Thread for : ./data/ICDAR-2011/Testdata_SigComp2011/SigComp11-Offlinetestset/Dutch/Reference(646)/024. Done !!! \n",
      "From Thread for : ./data/ICDAR-2011/Testdata_SigComp2011/SigComp11-Offlinetestset/Dutch/Reference(646)/049. Done !!! \n",
      "From Thread for : ./data/ICDAR-2011/Testdata_SigComp2011/SigComp11-Offlinetestset/Dutch/Reference(646)/067. Done !!! From Thread for : ./data/ICDAR-2011/Testdata_SigComp2011/SigComp11-Offlinetestset/Dutch/Reference(646)/064. Done !!! \n",
      "\n",
      "From Thread for : ./data/ICDAR-2011/Testdata_SigComp2011/SigComp11-Offlinetestset/Dutch/Reference(646)/057. Done !!! \n",
      "From Thread for : ./data/ICDAR-2011/Testdata_SigComp2011/SigComp11-Offlinetestset/Dutch/Reference(646)/068. Done !!! \n",
      "From Thread for : ./data/ICDAR-2011/Testdata_SigComp2011/SigComp11-Offlinetestset/Dutch/Reference(646)/059. Done !!! \n",
      "From Thread for : ./data/ICDAR-2011/Testdata_SigComp2011/SigComp11-Offlinetestset/Dutch/Reference(646)/062. Done !!! \n",
      "From Thread for : ./data/ICDAR-2011/Testdata_SigComp2011/SigComp11-Offlinetestset/Dutch/Reference(646)/022. Done !!! \n",
      "From Thread for : ./data/ICDAR-2011/Testdata_SigComp2011/SigComp11-Offlinetestset/Dutch/Reference(646)/043. Done !!! \n",
      "From Thread for : ./data/ICDAR-2011/Testdata_SigComp2011/SigComp11-Offlinetestset/Dutch/Reference(646)/063. Done !!! \n",
      "From Thread for : ./data/ICDAR-2011/Testdata_SigComp2011/SigComp11-Offlinetestset/Dutch/Reference(646)/039. Done !!! \n",
      "From Thread for : ./data/ICDAR-2011/Testdata_SigComp2011/SigComp11-Offlinetestset/Dutch/Reference(646)/023. Done !!! \n",
      "From Thread for : ./data/ICDAR-2011/Testdata_SigComp2011/SigComp11-Offlinetestset/Dutch/Reference(646)/037. Done !!! \n",
      "From Thread for : ./data/ICDAR-2011/Testdata_SigComp2011/SigComp11-Offlinetestset/Dutch/Reference(646)/026. Done !!! \n",
      "From Thread for : ./data/ICDAR-2011/Testdata_SigComp2011/SigComp11-Offlinetestset/Dutch/Reference(646)/032. Done !!! \n",
      "From Thread for : ./data/ICDAR-2011/Testdata_SigComp2011/SigComp11-Offlinetestset/Dutch/Reference(646)/058. Done !!! \n",
      "From Thread for : ./data/ICDAR-2011/Testdata_SigComp2011/SigComp11-Offlinetestset/Dutch/Reference(646)/054. Done !!! \n",
      "From Thread for : ./data/ICDAR-2011/Testdata_SigComp2011/SigComp11-Offlinetestset/Dutch/Reference(646)/061. Done !!! \n",
      "From Thread for : ./data/ICDAR-2011/Testdata_SigComp2011/SigComp11-Offlinetestset/Dutch/Reference(646)/053. Done !!! \n",
      "From Thread for : ./data/ICDAR-2011/Testdata_SigComp2011/SigComp11-Offlinetestset/Dutch/Reference(646)/050. Done !!! \n",
      "From Thread for : ./data/ICDAR-2011/Testdata_SigComp2011/SigComp11-Offlinetestset/Dutch/Reference(646)/051. Done !!! \n",
      "From Thread for : ./data/ICDAR-2011/Testdata_SigComp2011/SigComp11-Offlinetestset/Dutch/Reference(646)/065. Done !!! \n",
      "From Thread for : ./data/ICDAR-2011/Testdata_SigComp2011/SigComp11-Offlinetestset/Dutch/Reference(646)/030. Done !!! \n",
      "From Thread for : ./data/ICDAR-2011/Testdata_SigComp2011/SigComp11-Offlinetestset/Dutch/Reference(646)/042. Done !!! \n",
      "From Thread for : ./data/ICDAR-2011/Testdata_SigComp2011/SigComp11-Offlinetestset/Dutch/Reference(646)/055. Done !!! From Thread for : ./data/ICDAR-2011/Testdata_SigComp2011/SigComp11-Offlinetestset/Dutch/Reference(646)/052. Done !!! From Thread for : ./data/ICDAR-2011/Testdata_SigComp2011/SigComp11-Offlinetestset/Dutch/Reference(646)/020. Done !!! \n",
      "From Thread for : ./data/ICDAR-2011/Testdata_SigComp2011/SigComp11-Offlinetestset/Dutch/Reference(646)/045. Done !!! \n",
      "\n",
      "\n",
      "From Thread for : ./data/ICDAR-2011/Testdata_SigComp2011/SigComp11-Offlinetestset/Dutch/Reference(646)/047. Done !!! \n",
      "From Thread for : ./data/ICDAR-2011/Testdata_SigComp2011/SigComp11-Offlinetestset/Dutch/Reference(646)/036. Done !!! \n",
      "From Thread for : ./data/ICDAR-2011/Testdata_SigComp2011/SigComp11-Offlinetestset/Dutch/Reference(646)/069. Done !!! \n",
      "From Thread for : ./data/ICDAR-2011/Testdata_SigComp2011/SigComp11-Offlinetestset/Dutch/Reference(646)/056. Done !!! \n",
      "From Thread for : ./data/ICDAR-2011/Testdata_SigComp2011/SigComp11-Offlinetestset/Dutch/Reference(646)/060. Done !!! \n",
      "From Thread for : ./data/ICDAR-2011/Testdata_SigComp2011/SigComp11-Offlinetestset/Dutch/Reference(646)/019. Done !!! \n",
      "From Thread for : ./data/ICDAR-2011/Testdata_SigComp2011/SigComp11-Offlinetestset/Chinese/Ref(115)/017. Done !!! \n",
      "From Thread for : ./data/ICDAR-2011/Testdata_SigComp2011/SigComp11-Offlinetestset/Chinese/Ref(115)/018. Done !!! \n",
      "From Thread for : ./data/ICDAR-2011/Testdata_SigComp2011/SigComp11-Offlinetestset/Chinese/Ref(115)/013. Done !!! \n",
      "From Thread for : ./data/ICDAR-2011/Testdata_SigComp2011/SigComp11-Offlinetestset/Chinese/Ref(115)/016. Done !!! \n",
      "From Thread for : ./data/ICDAR-2011/Testdata_SigComp2011/SigComp11-Offlinetestset/Chinese/Ref(115)/020. Done !!! \n",
      "From Thread for : ./data/ICDAR-2011/Testdata_SigComp2011/SigComp11-Offlinetestset/Chinese/Ref(115)/011. Done !!! \n",
      "From Thread for : ./data/ICDAR-2011/Testdata_SigComp2011/SigComp11-Offlinetestset/Chinese/Ref(115)/015. Done !!! \n",
      "From Thread for : ./data/ICDAR-2011/Testdata_SigComp2011/SigComp11-Offlinetestset/Chinese/Ref(115)/019. Done !!! \n",
      "From Thread for : ./data/ICDAR-2011/Testdata_SigComp2011/SigComp11-Offlinetestset/Chinese/Ref(115)/012. Done !!! \n",
      "From Thread for : ./data/ICDAR-2011/Testdata_SigComp2011/SigComp11-Offlinetestset/Chinese/Ref(115)/014. Done !!! \n",
      "From Thread for : ./data/ICDAR-2011/Testdata_SigComp2011/SigComp11-Offlinetestset/Chinese/Questioned(487)/018. Done !!! \n",
      "From Thread for : ./data/ICDAR-2011/Testdata_SigComp2011/SigComp11-Offlinetestset/Chinese/Questioned(487)/015. Done !!! \n",
      "From Thread for : ./data/ICDAR-2011/Testdata_SigComp2011/SigComp11-Offlinetestset/Chinese/Questioned(487)/019. Done !!! \n",
      "From Thread for : ./data/ICDAR-2011/Testdata_SigComp2011/SigComp11-Offlinetestset/Chinese/Questioned(487)/013. Done !!! \n",
      "From Thread for : ./data/ICDAR-2011/Testdata_SigComp2011/SigComp11-Offlinetestset/Chinese/Questioned(487)/016. Done !!! \n",
      "From Thread for : ./data/ICDAR-2011/Testdata_SigComp2011/SigComp11-Offlinetestset/Chinese/Questioned(487)/020. Done !!! \n",
      "From Thread for : ./data/ICDAR-2011/Testdata_SigComp2011/SigComp11-Offlinetestset/Chinese/Questioned(487)/017. Done !!! \n",
      "From Thread for : ./data/ICDAR-2011/Testdata_SigComp2011/SigComp11-Offlinetestset/Chinese/Questioned(487)/011. Done !!! \n",
      "From Thread for : ./data/ICDAR-2011/Testdata_SigComp2011/SigComp11-Offlinetestset/Chinese/Questioned(487)/012. Done !!! \n",
      "From Thread for : ./data/ICDAR-2011/Testdata_SigComp2011/SigComp11-Offlinetestset/Chinese/Questioned(487)/014. Done !!! \n",
      "From Thread for : ./data/ICDAR-2011/trainingSet/OfflineSignatures/Chinese/TrainingSet/Offline Genuine. Done !!! \n",
      "From Thread for : ./data/ICDAR-2011/trainingSet/OfflineSignatures/Chinese/TrainingSet/Offline Forgeries. Done !!! \n"
     ]
    }
   ],
   "source": [
    "images, names = read_all_images(\"./data/ICDAR-2011\")"
   ]
  },
  {
   "cell_type": "code",
   "execution_count": 4,
   "metadata": {},
   "outputs": [
    {
     "data": {
      "text/plain": [
       "(3471, 40, 120)"
      ]
     },
     "execution_count": 4,
     "metadata": {},
     "output_type": "execute_result"
    }
   ],
   "source": [
    "images.shape"
   ]
  },
  {
   "cell_type": "code",
   "execution_count": 5,
   "metadata": {},
   "outputs": [
    {
     "data": {
      "text/plain": [
       "3471"
      ]
     },
     "execution_count": 5,
     "metadata": {},
     "output_type": "execute_result"
    }
   ],
   "source": [
    "len(names)"
   ]
  },
  {
   "cell_type": "code",
   "execution_count": 6,
   "metadata": {},
   "outputs": [
    {
     "name": "stdout",
     "output_type": "stream",
     "text": [
      "./data/ICDAR-2011/trainingSet/OfflineSignatures/Dutch/TrainingSet/Offline Forgeries/0201009_04.png\n"
     ]
    },
    {
     "data": {
      "text/plain": [
       "<matplotlib.image.AxesImage at 0x7ff648148588>"
      ]
     },
     "execution_count": 6,
     "metadata": {},
     "output_type": "execute_result"
    },
    {
     "data": {
      "image/png": "[encoded data removed]",
      "text/plain": [
       "<Figure size 432x288 with 1 Axes>"
      ]
     },
     "metadata": {},
     "output_type": "display_data"
    }
   ],
   "source": [
    "n = 110\n",
    "print(names[n])\n",
    "plt.imshow(images[n], \"gray\")"
   ]
  },
  {
   "cell_type": "markdown",
   "metadata": {},
   "source": [
    "#### Save the numpy array for latter processing"
   ]
  },
  {
   "cell_type": "code",
   "execution_count": 7,
   "metadata": {},
   "outputs": [],
   "source": [
    "np.save(\"./data/png-images.npy\", images)\n",
    "pickle.dump( names, open( \"./data/file-names.pkl\", \"wb\" ) )"
   ]
  },
  {
   "cell_type": "markdown",
   "metadata": {},
   "source": [
    "#### Inspect the file names"
   ]
  },
  {
   "cell_type": "code",
   "execution_count": 8,
   "metadata": {},
   "outputs": [],
   "source": [
    "fnames = [os.path.split(name)[-1] for name in names]"
   ]
  },
  {
   "cell_type": "code",
   "execution_count": 9,
   "metadata": {},
   "outputs": [
    {
     "data": {
      "text/plain": [
       "['0205006_04.png',\n",
       " '0119001_03.png',\n",
       " '0102014_02.png',\n",
       " '0121003_01.png',\n",
       " '0124004_01.png',\n",
       " '0102014_04.png',\n",
       " '0111006_03.png',\n",
       " '0214014_01.png',\n",
       " '0105004_03.png',\n",
       " '0103004_02.png']"
      ]
     },
     "execution_count": 9,
     "metadata": {},
     "output_type": "execute_result"
    }
   ],
   "source": [
    "fnames[:10]"
   ]
  },
  {
   "cell_type": "code",
   "execution_count": 10,
   "metadata": {},
   "outputs": [
    {
     "data": {
      "text/plain": [
       "(3361, 3471)"
      ]
     },
     "execution_count": 10,
     "metadata": {},
     "output_type": "execute_result"
    }
   ],
   "source": [
    "len(set(fnames)) ,len(names)"
   ]
  },
  {
   "cell_type": "code",
   "execution_count": 13,
   "metadata": {},
   "outputs": [
    {
     "ename": "ValueError",
     "evalue": "invalid literal for int() with base 10: '06_'",
     "output_type": "error",
     "traceback": [
      "\u001b[0;31m---------------------------------------------------------------------------\u001b[0m",
      "\u001b[0;31mValueError\u001b[0m                                Traceback (most recent call last)",
      "\u001b[0;32m<ipython-input-13-2c29bc00278c>\u001b[0m in \u001b[0;36m<module>\u001b[0;34m()\u001b[0m\n\u001b[1;32m      6\u001b[0m     \u001b[0;32mif\u001b[0m \u001b[0ml\u001b[0m \u001b[0;34m==\u001b[0m \u001b[0;36m10\u001b[0m\u001b[0;34m:\u001b[0m\u001b[0;34m\u001b[0m\u001b[0m\n\u001b[1;32m      7\u001b[0m         \u001b[0mt1\u001b[0m \u001b[0;34m+=\u001b[0m \u001b[0;36m1\u001b[0m\u001b[0;34m\u001b[0m\u001b[0m\n\u001b[0;32m----> 8\u001b[0;31m         \u001b[0mp_no\u001b[0m \u001b[0;34m=\u001b[0m \u001b[0mint\u001b[0m\u001b[0;34m(\u001b[0m\u001b[0mfname\u001b[0m\u001b[0;34m[\u001b[0m\u001b[0;34m:\u001b[0m\u001b[0;36m3\u001b[0m\u001b[0;34m]\u001b[0m\u001b[0;34m)\u001b[0m\u001b[0;34m\u001b[0m\u001b[0m\n\u001b[0m\u001b[1;32m      9\u001b[0m         \u001b[0mor_set\u001b[0m\u001b[0;34m.\u001b[0m\u001b[0madd\u001b[0m\u001b[0;34m(\u001b[0m\u001b[0mp_no\u001b[0m\u001b[0;34m)\u001b[0m\u001b[0;34m\u001b[0m\u001b[0m\n\u001b[1;32m     10\u001b[0m     \u001b[0;32melif\u001b[0m \u001b[0ml\u001b[0m \u001b[0;34m==\u001b[0m \u001b[0;36m14\u001b[0m\u001b[0;34m:\u001b[0m\u001b[0;34m\u001b[0m\u001b[0m\n",
      "\u001b[0;31mValueError\u001b[0m: invalid literal for int() with base 10: '06_'"
     ]
    }
   ],
   "source": [
    "t1 , t2 = 0,0\n",
    "or_set = set()\n",
    "fr_set = set()\n",
    "for i,fname in enumerate(fnames):\n",
    "    l = len(fname)\n",
    "    if l == 10:\n",
    "        t1 += 1\n",
    "        p_no = int(fname[:3])\n",
    "        or_set.add(p_no)\n",
    "    elif l == 14:\n",
    "        t2 += 1\n",
    "        p_no = int(fname[4:7])\n",
    "        fr_set.add(p_no)\n",
    "\n",
    "print(t1,t2, t1+t2)"
   ]
  },
  {
   "cell_type": "code",
   "execution_count": null,
   "metadata": {},
   "outputs": [],
   "source": []
  }
 ],
 "metadata": {
  "kernelspec": {
   "display_name": "Python 3 (ipykernel)",
   "language": "python",
   "name": "python3"
  },
  "language_info": {
   "codemirror_mode": {
    "name": "ipython",
    "version": 3
   },
   "file_extension": ".py",
   "mimetype": "text/x-python",
   "name": "python",
   "nbconvert_exporter": "python",
   "pygments_lexer": "ipython3",
   "version": "3.8.12"
  },
  "toc": {
   "base_numbering": 1,
   "nav_menu": {},
   "number_sections": true,
   "sideBar": true,
   "skip_h1_title": false,
   "title_cell": "Table of Contents",
   "title_sidebar": "Contents",
   "toc_cell": false,
   "toc_position": {},
   "toc_section_display": true,
   "toc_window_display": false
  },
  "varInspector": {
   "cols": {
    "lenName": 16,
    "lenType": 16,
    "lenVar": 40
   },
   "kernels_config": {
    "python": {
     "delete_cmd_postfix": "",
     "delete_cmd_prefix": "del ",
     "library": "var_list.py",
     "varRefreshCmd": "print(var_dic_list())"
    },
    "r": {
     "delete_cmd_postfix": ") ",
     "delete_cmd_prefix": "rm(",
     "library": "var_list.r",
     "varRefreshCmd": "cat(var_dic_list()) "
    }
   },
   "types_to_exclude": [
    "module",
    "function",
    "builtin_function_or_method",
    "instance",
    "_Feature"
   ],
   "window_display": false
  }
 },
 "nbformat": 4,
 "nbformat_minor": 4
}
